{
 "cells": [
  {
   "cell_type": "code",
   "execution_count": 5,
   "metadata": {},
   "outputs": [],
   "source": [
    "import numpy as np\n",
    "import pandas as pd\n",
    "\n",
    "import matplotlib.pylab as plt\n",
    "import seaborn as sns\n",
    "import pandas_profiling \n",
    "import seaborn as sns\n",
    "\n",
    "\n",
    "from datetime import datetime\n",
    "\n",
    "import statsmodels.api as sm\n",
    "from sklearn import metrics\n",
    "from sklearn.model_selection import train_test_split\n",
    "from sklearn.linear_model import LinearRegression\n",
    "from sklearn.ensemble import RandomForestRegressor\n",
    "from sklearn.tree import DecisionTreeRegressor\n",
    "from sklearn.ensemble import AdaBoostRegressor\n",
    "from sklearn.ensemble import GradientBoostingRegressor\n",
    "from sklearn.svm import SVC, LinearSVC\n",
    "from sklearn.metrics import mean_squared_error as mse\n",
    "from sklearn.metrics import mean_absolute_error, mean_squared_error"
   ]
  },
  {
   "cell_type": "code",
   "execution_count": 6,
   "metadata": {},
   "outputs": [],
   "source": [
    "train = pd.read_csv('train.csv')\n",
    "feature = pd.read_csv('features.csv')\n",
    "test = pd.read_csv('test.csv')\n",
    "stores = pd.read_csv('stores.csv')\n",
    "writer=pd.ExcelWriter('Walmart_sales_pred_out.xlsx', engine='xlsxwriter')"
   ]
  },
  {
   "cell_type": "code",
   "execution_count": 7,
   "metadata": {},
   "outputs": [],
   "source": [
    "train_bt = pd.merge(train,stores) \n",
    "train = pd.merge(train_bt,feature)\n",
    "#\n",
    "test_bt = pd.merge(test,stores)\n",
    "test= pd.merge(test_bt,feature)"
   ]
  },
  {
   "cell_type": "code",
   "execution_count": 8,
   "metadata": {},
   "outputs": [
    {
     "data": {
      "text/html": [
       "<div>\n",
       "<style scoped>\n",
       "    .dataframe tbody tr th:only-of-type {\n",
       "        vertical-align: middle;\n",
       "    }\n",
       "\n",
       "    .dataframe tbody tr th {\n",
       "        vertical-align: top;\n",
       "    }\n",
       "\n",
       "    .dataframe thead th {\n",
       "        text-align: right;\n",
       "    }\n",
       "</style>\n",
       "<table border=\"1\" class=\"dataframe\">\n",
       "  <thead>\n",
       "    <tr style=\"text-align: right;\">\n",
       "      <th></th>\n",
       "      <th>Store</th>\n",
       "      <th>Dept</th>\n",
       "      <th>Date</th>\n",
       "      <th>Weekly_Sales</th>\n",
       "      <th>IsHoliday</th>\n",
       "      <th>Type</th>\n",
       "      <th>Size</th>\n",
       "      <th>Temperature</th>\n",
       "      <th>Fuel_Price</th>\n",
       "      <th>MarkDown1</th>\n",
       "      <th>MarkDown2</th>\n",
       "      <th>MarkDown3</th>\n",
       "      <th>MarkDown4</th>\n",
       "      <th>MarkDown5</th>\n",
       "      <th>CPI</th>\n",
       "      <th>Unemployment</th>\n",
       "    </tr>\n",
       "  </thead>\n",
       "  <tbody>\n",
       "    <tr>\n",
       "      <td>0</td>\n",
       "      <td>1</td>\n",
       "      <td>1</td>\n",
       "      <td>2010-02-05</td>\n",
       "      <td>24924.50</td>\n",
       "      <td>False</td>\n",
       "      <td>A</td>\n",
       "      <td>151315</td>\n",
       "      <td>42.31</td>\n",
       "      <td>2.572</td>\n",
       "      <td>NaN</td>\n",
       "      <td>NaN</td>\n",
       "      <td>NaN</td>\n",
       "      <td>NaN</td>\n",
       "      <td>NaN</td>\n",
       "      <td>211.096358</td>\n",
       "      <td>8.106</td>\n",
       "    </tr>\n",
       "    <tr>\n",
       "      <td>1</td>\n",
       "      <td>1</td>\n",
       "      <td>2</td>\n",
       "      <td>2010-02-05</td>\n",
       "      <td>50605.27</td>\n",
       "      <td>False</td>\n",
       "      <td>A</td>\n",
       "      <td>151315</td>\n",
       "      <td>42.31</td>\n",
       "      <td>2.572</td>\n",
       "      <td>NaN</td>\n",
       "      <td>NaN</td>\n",
       "      <td>NaN</td>\n",
       "      <td>NaN</td>\n",
       "      <td>NaN</td>\n",
       "      <td>211.096358</td>\n",
       "      <td>8.106</td>\n",
       "    </tr>\n",
       "  </tbody>\n",
       "</table>\n",
       "</div>"
      ],
      "text/plain": [
       "   Store  Dept        Date  Weekly_Sales  IsHoliday Type    Size  Temperature  \\\n",
       "0      1     1  2010-02-05      24924.50      False    A  151315        42.31   \n",
       "1      1     2  2010-02-05      50605.27      False    A  151315        42.31   \n",
       "\n",
       "   Fuel_Price  MarkDown1  MarkDown2  MarkDown3  MarkDown4  MarkDown5  \\\n",
       "0       2.572        NaN        NaN        NaN        NaN        NaN   \n",
       "1       2.572        NaN        NaN        NaN        NaN        NaN   \n",
       "\n",
       "          CPI  Unemployment  \n",
       "0  211.096358         8.106  \n",
       "1  211.096358         8.106  "
      ]
     },
     "execution_count": 8,
     "metadata": {},
     "output_type": "execute_result"
    }
   ],
   "source": [
    "train.head(2)          "
   ]
  },
  {
   "cell_type": "code",
   "execution_count": 9,
   "metadata": {},
   "outputs": [
    {
     "data": {
      "text/html": [
       "<div>\n",
       "<style scoped>\n",
       "    .dataframe tbody tr th:only-of-type {\n",
       "        vertical-align: middle;\n",
       "    }\n",
       "\n",
       "    .dataframe tbody tr th {\n",
       "        vertical-align: top;\n",
       "    }\n",
       "\n",
       "    .dataframe thead th {\n",
       "        text-align: right;\n",
       "    }\n",
       "</style>\n",
       "<table border=\"1\" class=\"dataframe\">\n",
       "  <thead>\n",
       "    <tr style=\"text-align: right;\">\n",
       "      <th></th>\n",
       "      <th>Store</th>\n",
       "      <th>Dept</th>\n",
       "      <th>Date</th>\n",
       "      <th>IsHoliday</th>\n",
       "      <th>Type</th>\n",
       "      <th>Size</th>\n",
       "      <th>Temperature</th>\n",
       "      <th>Fuel_Price</th>\n",
       "      <th>MarkDown1</th>\n",
       "      <th>MarkDown2</th>\n",
       "      <th>MarkDown3</th>\n",
       "      <th>MarkDown4</th>\n",
       "      <th>MarkDown5</th>\n",
       "      <th>CPI</th>\n",
       "      <th>Unemployment</th>\n",
       "    </tr>\n",
       "  </thead>\n",
       "  <tbody>\n",
       "    <tr>\n",
       "      <td>0</td>\n",
       "      <td>1</td>\n",
       "      <td>1</td>\n",
       "      <td>2012-11-02</td>\n",
       "      <td>False</td>\n",
       "      <td>A</td>\n",
       "      <td>151315</td>\n",
       "      <td>55.32</td>\n",
       "      <td>3.386</td>\n",
       "      <td>6766.44</td>\n",
       "      <td>5147.7</td>\n",
       "      <td>50.82</td>\n",
       "      <td>3639.9</td>\n",
       "      <td>2737.42</td>\n",
       "      <td>223.462779</td>\n",
       "      <td>6.573</td>\n",
       "    </tr>\n",
       "    <tr>\n",
       "      <td>1</td>\n",
       "      <td>1</td>\n",
       "      <td>2</td>\n",
       "      <td>2012-11-02</td>\n",
       "      <td>False</td>\n",
       "      <td>A</td>\n",
       "      <td>151315</td>\n",
       "      <td>55.32</td>\n",
       "      <td>3.386</td>\n",
       "      <td>6766.44</td>\n",
       "      <td>5147.7</td>\n",
       "      <td>50.82</td>\n",
       "      <td>3639.9</td>\n",
       "      <td>2737.42</td>\n",
       "      <td>223.462779</td>\n",
       "      <td>6.573</td>\n",
       "    </tr>\n",
       "  </tbody>\n",
       "</table>\n",
       "</div>"
      ],
      "text/plain": [
       "   Store  Dept        Date  IsHoliday Type    Size  Temperature  Fuel_Price  \\\n",
       "0      1     1  2012-11-02      False    A  151315        55.32       3.386   \n",
       "1      1     2  2012-11-02      False    A  151315        55.32       3.386   \n",
       "\n",
       "   MarkDown1  MarkDown2  MarkDown3  MarkDown4  MarkDown5         CPI  \\\n",
       "0    6766.44     5147.7      50.82     3639.9    2737.42  223.462779   \n",
       "1    6766.44     5147.7      50.82     3639.9    2737.42  223.462779   \n",
       "\n",
       "   Unemployment  \n",
       "0         6.573  \n",
       "1         6.573  "
      ]
     },
     "execution_count": 9,
     "metadata": {},
     "output_type": "execute_result"
    }
   ],
   "source": [
    "test.head(2)"
   ]
  },
  {
   "cell_type": "code",
   "execution_count": 10,
   "metadata": {},
   "outputs": [
    {
     "name": "stdout",
     "output_type": "stream",
     "text": [
      "<class 'pandas.core.frame.DataFrame'>\n",
      "Int64Index: 421570 entries, 0 to 421569\n",
      "Data columns (total 16 columns):\n",
      "Store           421570 non-null int64\n",
      "Dept            421570 non-null int64\n",
      "Date            421570 non-null object\n",
      "Weekly_Sales    421570 non-null float64\n",
      "IsHoliday       421570 non-null bool\n",
      "Type            421570 non-null object\n",
      "Size            421570 non-null int64\n",
      "Temperature     421570 non-null float64\n",
      "Fuel_Price      421570 non-null float64\n",
      "MarkDown1       150681 non-null float64\n",
      "MarkDown2       111248 non-null float64\n",
      "MarkDown3       137091 non-null float64\n",
      "MarkDown4       134967 non-null float64\n",
      "MarkDown5       151432 non-null float64\n",
      "CPI             421570 non-null float64\n",
      "Unemployment    421570 non-null float64\n",
      "dtypes: bool(1), float64(10), int64(3), object(2)\n",
      "memory usage: 51.9+ MB\n",
      "None\n",
      "*****************************************\n",
      "<class 'pandas.core.frame.DataFrame'>\n",
      "Int64Index: 115064 entries, 0 to 115063\n",
      "Data columns (total 15 columns):\n",
      "Store           115064 non-null int64\n",
      "Dept            115064 non-null int64\n",
      "Date            115064 non-null object\n",
      "IsHoliday       115064 non-null bool\n",
      "Type            115064 non-null object\n",
      "Size            115064 non-null int64\n",
      "Temperature     115064 non-null float64\n",
      "Fuel_Price      115064 non-null float64\n",
      "MarkDown1       114915 non-null float64\n",
      "MarkDown2       86437 non-null float64\n",
      "MarkDown3       105235 non-null float64\n",
      "MarkDown4       102176 non-null float64\n",
      "MarkDown5       115064 non-null float64\n",
      "CPI             76902 non-null float64\n",
      "Unemployment    76902 non-null float64\n",
      "dtypes: bool(1), float64(9), int64(3), object(2)\n",
      "memory usage: 13.3+ MB\n",
      "None\n"
     ]
    }
   ],
   "source": [
    "print (train.info())\n",
    "print (\"*****************************************\")\n",
    "print(test.info())"
   ]
  },
  {
   "cell_type": "code",
   "execution_count": 11,
   "metadata": {},
   "outputs": [
    {
     "name": "stdout",
     "output_type": "stream",
     "text": [
      "['Store', 'Dept', 'Weekly_Sales', 'Size', 'Temperature', 'Fuel_Price', 'MarkDown1', 'MarkDown2', 'MarkDown3', 'MarkDown4', 'MarkDown5', 'CPI', 'Unemployment']\n",
      "['Date', 'Type']\n"
     ]
    }
   ],
   "source": [
    "numeric_var_train=[key for key in dict(train.dtypes) if dict(train.dtypes)[key] in ['float64', 'int64', 'float32', 'int32']]\n",
    "cat_var_train=[key for key in dict(train.dtypes) if dict(train.dtypes)[key] in ['object']]\n",
    "#numerical\n",
    "train_num=train[numeric_var_train]\n",
    "#categorical\n",
    "train_cat=train[cat_var_train]\n",
    "print (numeric_var_train)\n",
    "print (cat_var_train) "
   ]
  },
  {
   "cell_type": "code",
   "execution_count": 12,
   "metadata": {},
   "outputs": [
    {
     "data": {
      "text/html": [
       "<div>\n",
       "<style scoped>\n",
       "    .dataframe tbody tr th:only-of-type {\n",
       "        vertical-align: middle;\n",
       "    }\n",
       "\n",
       "    .dataframe tbody tr th {\n",
       "        vertical-align: top;\n",
       "    }\n",
       "\n",
       "    .dataframe thead th {\n",
       "        text-align: right;\n",
       "    }\n",
       "</style>\n",
       "<table border=\"1\" class=\"dataframe\">\n",
       "  <thead>\n",
       "    <tr style=\"text-align: right;\">\n",
       "      <th></th>\n",
       "      <th>N</th>\n",
       "      <th>NMISS</th>\n",
       "      <th>SUM</th>\n",
       "      <th>MEAN</th>\n",
       "      <th>MEDIAN</th>\n",
       "      <th>STD</th>\n",
       "      <th>VAR</th>\n",
       "      <th>MIN</th>\n",
       "      <th>P1</th>\n",
       "      <th>P5</th>\n",
       "      <th>P10</th>\n",
       "      <th>P25</th>\n",
       "      <th>P50</th>\n",
       "      <th>P75</th>\n",
       "      <th>P90</th>\n",
       "      <th>P95</th>\n",
       "      <th>P99</th>\n",
       "      <th>MAX</th>\n",
       "    </tr>\n",
       "  </thead>\n",
       "  <tbody>\n",
       "    <tr>\n",
       "      <td>Store</td>\n",
       "      <td>421570.0</td>\n",
       "      <td>0.0</td>\n",
       "      <td>9.359084e+06</td>\n",
       "      <td>22.200546</td>\n",
       "      <td>22.00000</td>\n",
       "      <td>12.785297</td>\n",
       "      <td>1.634638e+02</td>\n",
       "      <td>1.000</td>\n",
       "      <td>1.000000</td>\n",
       "      <td>3.000000</td>\n",
       "      <td>5.000000</td>\n",
       "      <td>11.000000</td>\n",
       "      <td>22.00000</td>\n",
       "      <td>33.000000</td>\n",
       "      <td>40.000000</td>\n",
       "      <td>43.000000</td>\n",
       "      <td>45.000000</td>\n",
       "      <td>45.000000</td>\n",
       "    </tr>\n",
       "    <tr>\n",
       "      <td>Dept</td>\n",
       "      <td>421570.0</td>\n",
       "      <td>0.0</td>\n",
       "      <td>1.865882e+07</td>\n",
       "      <td>44.260317</td>\n",
       "      <td>37.00000</td>\n",
       "      <td>30.492054</td>\n",
       "      <td>9.297654e+02</td>\n",
       "      <td>1.000</td>\n",
       "      <td>1.000000</td>\n",
       "      <td>4.000000</td>\n",
       "      <td>7.000000</td>\n",
       "      <td>18.000000</td>\n",
       "      <td>37.00000</td>\n",
       "      <td>74.000000</td>\n",
       "      <td>92.000000</td>\n",
       "      <td>95.000000</td>\n",
       "      <td>98.000000</td>\n",
       "      <td>99.000000</td>\n",
       "    </tr>\n",
       "    <tr>\n",
       "      <td>Weekly_Sales</td>\n",
       "      <td>421570.0</td>\n",
       "      <td>0.0</td>\n",
       "      <td>6.737219e+09</td>\n",
       "      <td>15981.258123</td>\n",
       "      <td>7612.03000</td>\n",
       "      <td>22711.183519</td>\n",
       "      <td>5.157979e+08</td>\n",
       "      <td>-4988.940</td>\n",
       "      <td>5.000000</td>\n",
       "      <td>59.974500</td>\n",
       "      <td>291.097000</td>\n",
       "      <td>2079.650000</td>\n",
       "      <td>7612.03000</td>\n",
       "      <td>20205.852500</td>\n",
       "      <td>42845.673000</td>\n",
       "      <td>61201.951000</td>\n",
       "      <td>106479.586000</td>\n",
       "      <td>693099.360000</td>\n",
       "    </tr>\n",
       "    <tr>\n",
       "      <td>Size</td>\n",
       "      <td>421570.0</td>\n",
       "      <td>0.0</td>\n",
       "      <td>5.764039e+10</td>\n",
       "      <td>136727.915739</td>\n",
       "      <td>140167.00000</td>\n",
       "      <td>60980.583328</td>\n",
       "      <td>3.718632e+09</td>\n",
       "      <td>34875.000</td>\n",
       "      <td>34875.000000</td>\n",
       "      <td>39690.000000</td>\n",
       "      <td>39910.000000</td>\n",
       "      <td>93638.000000</td>\n",
       "      <td>140167.00000</td>\n",
       "      <td>202505.000000</td>\n",
       "      <td>204184.000000</td>\n",
       "      <td>206302.000000</td>\n",
       "      <td>219622.000000</td>\n",
       "      <td>219622.000000</td>\n",
       "    </tr>\n",
       "    <tr>\n",
       "      <td>Temperature</td>\n",
       "      <td>421570.0</td>\n",
       "      <td>0.0</td>\n",
       "      <td>2.533217e+07</td>\n",
       "      <td>60.090059</td>\n",
       "      <td>62.09000</td>\n",
       "      <td>18.447931</td>\n",
       "      <td>3.403262e+02</td>\n",
       "      <td>-2.060</td>\n",
       "      <td>18.300000</td>\n",
       "      <td>27.310000</td>\n",
       "      <td>33.980000</td>\n",
       "      <td>46.680000</td>\n",
       "      <td>62.09000</td>\n",
       "      <td>74.280000</td>\n",
       "      <td>83.580000</td>\n",
       "      <td>87.270000</td>\n",
       "      <td>92.810000</td>\n",
       "      <td>100.140000</td>\n",
       "    </tr>\n",
       "    <tr>\n",
       "      <td>Fuel_Price</td>\n",
       "      <td>421570.0</td>\n",
       "      <td>0.0</td>\n",
       "      <td>1.416908e+06</td>\n",
       "      <td>3.361027</td>\n",
       "      <td>3.45200</td>\n",
       "      <td>0.458515</td>\n",
       "      <td>2.102356e-01</td>\n",
       "      <td>2.472</td>\n",
       "      <td>2.565000</td>\n",
       "      <td>2.653000</td>\n",
       "      <td>2.720000</td>\n",
       "      <td>2.933000</td>\n",
       "      <td>3.45200</td>\n",
       "      <td>3.738000</td>\n",
       "      <td>3.917000</td>\n",
       "      <td>4.029000</td>\n",
       "      <td>4.202000</td>\n",
       "      <td>4.468000</td>\n",
       "    </tr>\n",
       "    <tr>\n",
       "      <td>MarkDown1</td>\n",
       "      <td>150681.0</td>\n",
       "      <td>270889.0</td>\n",
       "      <td>1.091898e+09</td>\n",
       "      <td>7246.420196</td>\n",
       "      <td>5347.45000</td>\n",
       "      <td>8291.221345</td>\n",
       "      <td>6.874435e+07</td>\n",
       "      <td>0.270</td>\n",
       "      <td>17.760000</td>\n",
       "      <td>149.190000</td>\n",
       "      <td>375.200000</td>\n",
       "      <td>2240.270000</td>\n",
       "      <td>5347.45000</td>\n",
       "      <td>9210.900000</td>\n",
       "      <td>15282.470000</td>\n",
       "      <td>21801.350000</td>\n",
       "      <td>41524.030000</td>\n",
       "      <td>88646.760000</td>\n",
       "    </tr>\n",
       "    <tr>\n",
       "      <td>MarkDown2</td>\n",
       "      <td>111248.0</td>\n",
       "      <td>310322.0</td>\n",
       "      <td>3.709708e+08</td>\n",
       "      <td>3334.628621</td>\n",
       "      <td>192.00000</td>\n",
       "      <td>9475.357325</td>\n",
       "      <td>8.978240e+07</td>\n",
       "      <td>-265.760</td>\n",
       "      <td>-0.990000</td>\n",
       "      <td>1.950000</td>\n",
       "      <td>6.980000</td>\n",
       "      <td>41.600000</td>\n",
       "      <td>192.00000</td>\n",
       "      <td>1926.940000</td>\n",
       "      <td>8549.740000</td>\n",
       "      <td>16497.470000</td>\n",
       "      <td>50366.600000</td>\n",
       "      <td>104519.540000</td>\n",
       "    </tr>\n",
       "    <tr>\n",
       "      <td>MarkDown3</td>\n",
       "      <td>137091.0</td>\n",
       "      <td>284479.0</td>\n",
       "      <td>1.973317e+08</td>\n",
       "      <td>1439.421384</td>\n",
       "      <td>24.60000</td>\n",
       "      <td>9623.078290</td>\n",
       "      <td>9.260364e+07</td>\n",
       "      <td>-29.100</td>\n",
       "      <td>0.060000</td>\n",
       "      <td>0.650000</td>\n",
       "      <td>1.650000</td>\n",
       "      <td>5.080000</td>\n",
       "      <td>24.60000</td>\n",
       "      <td>103.990000</td>\n",
       "      <td>400.090000</td>\n",
       "      <td>1059.900000</td>\n",
       "      <td>63143.290000</td>\n",
       "      <td>141630.610000</td>\n",
       "    </tr>\n",
       "    <tr>\n",
       "      <td>MarkDown4</td>\n",
       "      <td>134967.0</td>\n",
       "      <td>286603.0</td>\n",
       "      <td>4.566161e+08</td>\n",
       "      <td>3383.168256</td>\n",
       "      <td>1481.31000</td>\n",
       "      <td>6292.384031</td>\n",
       "      <td>3.959410e+07</td>\n",
       "      <td>0.220</td>\n",
       "      <td>3.970000</td>\n",
       "      <td>28.760000</td>\n",
       "      <td>108.710000</td>\n",
       "      <td>504.220000</td>\n",
       "      <td>1481.31000</td>\n",
       "      <td>3595.040000</td>\n",
       "      <td>7871.420000</td>\n",
       "      <td>12645.960000</td>\n",
       "      <td>35785.260000</td>\n",
       "      <td>67474.850000</td>\n",
       "    </tr>\n",
       "    <tr>\n",
       "      <td>MarkDown5</td>\n",
       "      <td>151432.0</td>\n",
       "      <td>270138.0</td>\n",
       "      <td>7.009750e+08</td>\n",
       "      <td>4628.975079</td>\n",
       "      <td>3359.45000</td>\n",
       "      <td>5962.887455</td>\n",
       "      <td>3.555603e+07</td>\n",
       "      <td>135.160</td>\n",
       "      <td>351.970000</td>\n",
       "      <td>715.520000</td>\n",
       "      <td>1070.830000</td>\n",
       "      <td>1878.440000</td>\n",
       "      <td>3359.45000</td>\n",
       "      <td>5563.800000</td>\n",
       "      <td>8337.700000</td>\n",
       "      <td>11269.240000</td>\n",
       "      <td>27754.230000</td>\n",
       "      <td>108519.280000</td>\n",
       "    </tr>\n",
       "    <tr>\n",
       "      <td>CPI</td>\n",
       "      <td>421570.0</td>\n",
       "      <td>0.0</td>\n",
       "      <td>7.217360e+07</td>\n",
       "      <td>171.201947</td>\n",
       "      <td>182.31878</td>\n",
       "      <td>39.159276</td>\n",
       "      <td>1.533449e+03</td>\n",
       "      <td>126.064</td>\n",
       "      <td>126.111903</td>\n",
       "      <td>126.496258</td>\n",
       "      <td>128.823806</td>\n",
       "      <td>132.022667</td>\n",
       "      <td>182.31878</td>\n",
       "      <td>212.416993</td>\n",
       "      <td>219.444244</td>\n",
       "      <td>221.941558</td>\n",
       "      <td>225.473509</td>\n",
       "      <td>227.232807</td>\n",
       "    </tr>\n",
       "    <tr>\n",
       "      <td>Unemployment</td>\n",
       "      <td>421570.0</td>\n",
       "      <td>0.0</td>\n",
       "      <td>3.355819e+06</td>\n",
       "      <td>7.960289</td>\n",
       "      <td>7.86600</td>\n",
       "      <td>1.863296</td>\n",
       "      <td>3.471872e+00</td>\n",
       "      <td>3.879</td>\n",
       "      <td>4.156000</td>\n",
       "      <td>5.326000</td>\n",
       "      <td>5.965000</td>\n",
       "      <td>6.891000</td>\n",
       "      <td>7.86600</td>\n",
       "      <td>8.572000</td>\n",
       "      <td>9.816000</td>\n",
       "      <td>12.187000</td>\n",
       "      <td>14.180000</td>\n",
       "      <td>14.313000</td>\n",
       "    </tr>\n",
       "  </tbody>\n",
       "</table>\n",
       "</div>"
      ],
      "text/plain": [
       "                     N     NMISS           SUM           MEAN        MEDIAN  \\\n",
       "Store         421570.0       0.0  9.359084e+06      22.200546      22.00000   \n",
       "Dept          421570.0       0.0  1.865882e+07      44.260317      37.00000   \n",
       "Weekly_Sales  421570.0       0.0  6.737219e+09   15981.258123    7612.03000   \n",
       "Size          421570.0       0.0  5.764039e+10  136727.915739  140167.00000   \n",
       "Temperature   421570.0       0.0  2.533217e+07      60.090059      62.09000   \n",
       "Fuel_Price    421570.0       0.0  1.416908e+06       3.361027       3.45200   \n",
       "MarkDown1     150681.0  270889.0  1.091898e+09    7246.420196    5347.45000   \n",
       "MarkDown2     111248.0  310322.0  3.709708e+08    3334.628621     192.00000   \n",
       "MarkDown3     137091.0  284479.0  1.973317e+08    1439.421384      24.60000   \n",
       "MarkDown4     134967.0  286603.0  4.566161e+08    3383.168256    1481.31000   \n",
       "MarkDown5     151432.0  270138.0  7.009750e+08    4628.975079    3359.45000   \n",
       "CPI           421570.0       0.0  7.217360e+07     171.201947     182.31878   \n",
       "Unemployment  421570.0       0.0  3.355819e+06       7.960289       7.86600   \n",
       "\n",
       "                       STD           VAR        MIN            P1  \\\n",
       "Store            12.785297  1.634638e+02      1.000      1.000000   \n",
       "Dept             30.492054  9.297654e+02      1.000      1.000000   \n",
       "Weekly_Sales  22711.183519  5.157979e+08  -4988.940      5.000000   \n",
       "Size          60980.583328  3.718632e+09  34875.000  34875.000000   \n",
       "Temperature      18.447931  3.403262e+02     -2.060     18.300000   \n",
       "Fuel_Price        0.458515  2.102356e-01      2.472      2.565000   \n",
       "MarkDown1      8291.221345  6.874435e+07      0.270     17.760000   \n",
       "MarkDown2      9475.357325  8.978240e+07   -265.760     -0.990000   \n",
       "MarkDown3      9623.078290  9.260364e+07    -29.100      0.060000   \n",
       "MarkDown4      6292.384031  3.959410e+07      0.220      3.970000   \n",
       "MarkDown5      5962.887455  3.555603e+07    135.160    351.970000   \n",
       "CPI              39.159276  1.533449e+03    126.064    126.111903   \n",
       "Unemployment      1.863296  3.471872e+00      3.879      4.156000   \n",
       "\n",
       "                        P5           P10           P25           P50  \\\n",
       "Store             3.000000      5.000000     11.000000      22.00000   \n",
       "Dept              4.000000      7.000000     18.000000      37.00000   \n",
       "Weekly_Sales     59.974500    291.097000   2079.650000    7612.03000   \n",
       "Size          39690.000000  39910.000000  93638.000000  140167.00000   \n",
       "Temperature      27.310000     33.980000     46.680000      62.09000   \n",
       "Fuel_Price        2.653000      2.720000      2.933000       3.45200   \n",
       "MarkDown1       149.190000    375.200000   2240.270000    5347.45000   \n",
       "MarkDown2         1.950000      6.980000     41.600000     192.00000   \n",
       "MarkDown3         0.650000      1.650000      5.080000      24.60000   \n",
       "MarkDown4        28.760000    108.710000    504.220000    1481.31000   \n",
       "MarkDown5       715.520000   1070.830000   1878.440000    3359.45000   \n",
       "CPI             126.496258    128.823806    132.022667     182.31878   \n",
       "Unemployment      5.326000      5.965000      6.891000       7.86600   \n",
       "\n",
       "                        P75            P90            P95            P99  \\\n",
       "Store             33.000000      40.000000      43.000000      45.000000   \n",
       "Dept              74.000000      92.000000      95.000000      98.000000   \n",
       "Weekly_Sales   20205.852500   42845.673000   61201.951000  106479.586000   \n",
       "Size          202505.000000  204184.000000  206302.000000  219622.000000   \n",
       "Temperature       74.280000      83.580000      87.270000      92.810000   \n",
       "Fuel_Price         3.738000       3.917000       4.029000       4.202000   \n",
       "MarkDown1       9210.900000   15282.470000   21801.350000   41524.030000   \n",
       "MarkDown2       1926.940000    8549.740000   16497.470000   50366.600000   \n",
       "MarkDown3        103.990000     400.090000    1059.900000   63143.290000   \n",
       "MarkDown4       3595.040000    7871.420000   12645.960000   35785.260000   \n",
       "MarkDown5       5563.800000    8337.700000   11269.240000   27754.230000   \n",
       "CPI              212.416993     219.444244     221.941558     225.473509   \n",
       "Unemployment       8.572000       9.816000      12.187000      14.180000   \n",
       "\n",
       "                        MAX  \n",
       "Store             45.000000  \n",
       "Dept              99.000000  \n",
       "Weekly_Sales  693099.360000  \n",
       "Size          219622.000000  \n",
       "Temperature      100.140000  \n",
       "Fuel_Price         4.468000  \n",
       "MarkDown1      88646.760000  \n",
       "MarkDown2     104519.540000  \n",
       "MarkDown3     141630.610000  \n",
       "MarkDown4      67474.850000  \n",
       "MarkDown5     108519.280000  \n",
       "CPI              227.232807  \n",
       "Unemployment      14.313000  "
      ]
     },
     "execution_count": 12,
     "metadata": {},
     "output_type": "execute_result"
    }
   ],
   "source": [
    "def var_summary(x):\n",
    "    return pd.Series([x.count(), x.isnull().sum(), x.sum(), x.mean(), x.median(),  x.std(), x.var(), x.min(), x.dropna().quantile(0.01), x.dropna().quantile(0.05),x.dropna().quantile(0.10),x.dropna().quantile(0.25),x.dropna().quantile(0.50),x.dropna().quantile(0.75), x.dropna().quantile(0.90),x.dropna().quantile(0.95), x.dropna().quantile(0.99),x.max()], \n",
    "                  index=['N', 'NMISS', 'SUM', 'MEAN','MEDIAN', 'STD', 'VAR', 'MIN', 'P1' , 'P5' ,'P10' ,'P25' ,'P50' ,'P75' ,'P90' ,'P95' ,'P99' ,'MAX'])\n",
    " \n",
    "num_summary=train_num.apply(lambda x: var_summary(x)).T\n",
    "num_summary.to_excel(writer,'Numeric_variable Summary',index=True)\n",
    "num_summary"
   ]
  },
  {
   "cell_type": "code",
   "execution_count": 13,
   "metadata": {},
   "outputs": [
    {
     "data": {
      "text/html": [
       "<div>\n",
       "<style scoped>\n",
       "    .dataframe tbody tr th:only-of-type {\n",
       "        vertical-align: middle;\n",
       "    }\n",
       "\n",
       "    .dataframe tbody tr th {\n",
       "        vertical-align: top;\n",
       "    }\n",
       "\n",
       "    .dataframe thead th {\n",
       "        text-align: right;\n",
       "    }\n",
       "</style>\n",
       "<table border=\"1\" class=\"dataframe\">\n",
       "  <thead>\n",
       "    <tr style=\"text-align: right;\">\n",
       "      <th></th>\n",
       "      <th>Date</th>\n",
       "      <th>Type</th>\n",
       "    </tr>\n",
       "  </thead>\n",
       "  <tbody>\n",
       "    <tr>\n",
       "      <td>N</td>\n",
       "      <td>421570</td>\n",
       "      <td>421570</td>\n",
       "    </tr>\n",
       "    <tr>\n",
       "      <td>NMISS</td>\n",
       "      <td>0</td>\n",
       "      <td>0</td>\n",
       "    </tr>\n",
       "    <tr>\n",
       "      <td>ColumnsNames</td>\n",
       "      <td>2011-12-23    3027\n",
       "2011-11-25    3021\n",
       "2011-12-...</td>\n",
       "      <td>A    215478\n",
       "B    163495\n",
       "C     42597\n",
       "Name: Type...</td>\n",
       "    </tr>\n",
       "  </tbody>\n",
       "</table>\n",
       "</div>"
      ],
      "text/plain": [
       "                                                           Date  \\\n",
       "N                                                        421570   \n",
       "NMISS                                                         0   \n",
       "ColumnsNames  2011-12-23    3027\n",
       "2011-11-25    3021\n",
       "2011-12-...   \n",
       "\n",
       "                                                           Type  \n",
       "N                                                        421570  \n",
       "NMISS                                                         0  \n",
       "ColumnsNames  A    215478\n",
       "B    163495\n",
       "C     42597\n",
       "Name: Type...  "
      ]
     },
     "execution_count": 13,
     "metadata": {},
     "output_type": "execute_result"
    }
   ],
   "source": [
    "def cat_summary(x):\n",
    "    return pd.Series([x.count(), x.isnull().sum(), x.value_counts()], \n",
    "                  index=['N', 'NMISS', 'ColumnsNames'])\n",
    "\n",
    "cat_summary=train_cat.apply(lambda x: cat_summary(x))\n",
    "cat_summary"
   ]
  },
  {
   "cell_type": "code",
   "execution_count": 14,
   "metadata": {},
   "outputs": [
    {
     "name": "stdout",
     "output_type": "stream",
     "text": [
      "['Store', 'Dept', 'Size', 'Temperature', 'Fuel_Price', 'MarkDown1', 'MarkDown2', 'MarkDown3', 'MarkDown4', 'MarkDown5', 'CPI', 'Unemployment']\n",
      "['Date', 'Type']\n"
     ]
    }
   ],
   "source": [
    "numeric_var_test=[key for key in dict(test.dtypes) if dict(test.dtypes)[key] in ['float64', 'int64', 'float32', 'int32']]\n",
    "cat_var_test=[key for key in dict(test.dtypes) if dict(test.dtypes)[key] in ['object']]\n",
    "test_num=test[numeric_var_test]\n",
    "test_cat=test[cat_var_test]\n",
    "print (numeric_var_test)\n",
    "print (cat_var_test)"
   ]
  },
  {
   "cell_type": "code",
   "execution_count": 15,
   "metadata": {},
   "outputs": [
    {
     "data": {
      "text/html": [
       "<div>\n",
       "<style scoped>\n",
       "    .dataframe tbody tr th:only-of-type {\n",
       "        vertical-align: middle;\n",
       "    }\n",
       "\n",
       "    .dataframe tbody tr th {\n",
       "        vertical-align: top;\n",
       "    }\n",
       "\n",
       "    .dataframe thead th {\n",
       "        text-align: right;\n",
       "    }\n",
       "</style>\n",
       "<table border=\"1\" class=\"dataframe\">\n",
       "  <thead>\n",
       "    <tr style=\"text-align: right;\">\n",
       "      <th></th>\n",
       "      <th>N</th>\n",
       "      <th>NMISS</th>\n",
       "      <th>SUM</th>\n",
       "      <th>MEAN</th>\n",
       "      <th>MEDIAN</th>\n",
       "      <th>STD</th>\n",
       "      <th>VAR</th>\n",
       "      <th>MIN</th>\n",
       "      <th>P1</th>\n",
       "      <th>P5</th>\n",
       "      <th>P10</th>\n",
       "      <th>P25</th>\n",
       "      <th>P50</th>\n",
       "      <th>P75</th>\n",
       "      <th>P90</th>\n",
       "      <th>P95</th>\n",
       "      <th>P99</th>\n",
       "      <th>MAX</th>\n",
       "    </tr>\n",
       "  </thead>\n",
       "  <tbody>\n",
       "    <tr>\n",
       "      <td>Store</td>\n",
       "      <td>115064.0</td>\n",
       "      <td>0.0</td>\n",
       "      <td>2.558817e+06</td>\n",
       "      <td>22.238207</td>\n",
       "      <td>22.000</td>\n",
       "      <td>12.809930</td>\n",
       "      <td>1.640943e+02</td>\n",
       "      <td>1.000</td>\n",
       "      <td>1.000</td>\n",
       "      <td>3.000</td>\n",
       "      <td>5.000</td>\n",
       "      <td>11.000</td>\n",
       "      <td>22.000</td>\n",
       "      <td>33.000</td>\n",
       "      <td>40.000</td>\n",
       "      <td>43.000</td>\n",
       "      <td>45.000</td>\n",
       "      <td>45.000</td>\n",
       "    </tr>\n",
       "    <tr>\n",
       "      <td>Dept</td>\n",
       "      <td>115064.0</td>\n",
       "      <td>0.0</td>\n",
       "      <td>5.101883e+06</td>\n",
       "      <td>44.339524</td>\n",
       "      <td>37.000</td>\n",
       "      <td>30.656410</td>\n",
       "      <td>9.398155e+02</td>\n",
       "      <td>1.000</td>\n",
       "      <td>1.000</td>\n",
       "      <td>4.000</td>\n",
       "      <td>7.000</td>\n",
       "      <td>18.000</td>\n",
       "      <td>37.000</td>\n",
       "      <td>74.000</td>\n",
       "      <td>92.000</td>\n",
       "      <td>95.000</td>\n",
       "      <td>98.000</td>\n",
       "      <td>99.000</td>\n",
       "    </tr>\n",
       "    <tr>\n",
       "      <td>Size</td>\n",
       "      <td>115064.0</td>\n",
       "      <td>0.0</td>\n",
       "      <td>1.570597e+10</td>\n",
       "      <td>136497.688921</td>\n",
       "      <td>140167.000</td>\n",
       "      <td>61106.926438</td>\n",
       "      <td>3.734056e+09</td>\n",
       "      <td>34875.000</td>\n",
       "      <td>34875.000</td>\n",
       "      <td>39690.000</td>\n",
       "      <td>39910.000</td>\n",
       "      <td>93638.000</td>\n",
       "      <td>140167.000</td>\n",
       "      <td>202505.000</td>\n",
       "      <td>204184.000</td>\n",
       "      <td>206302.000</td>\n",
       "      <td>219622.000</td>\n",
       "      <td>219622.000</td>\n",
       "    </tr>\n",
       "    <tr>\n",
       "      <td>Temperature</td>\n",
       "      <td>115064.0</td>\n",
       "      <td>0.0</td>\n",
       "      <td>6.206760e+06</td>\n",
       "      <td>53.941804</td>\n",
       "      <td>54.470</td>\n",
       "      <td>18.724153</td>\n",
       "      <td>3.505939e+02</td>\n",
       "      <td>-7.290</td>\n",
       "      <td>11.440</td>\n",
       "      <td>23.980</td>\n",
       "      <td>29.970</td>\n",
       "      <td>39.820</td>\n",
       "      <td>54.470</td>\n",
       "      <td>67.350</td>\n",
       "      <td>79.480</td>\n",
       "      <td>83.820</td>\n",
       "      <td>92.140</td>\n",
       "      <td>101.950</td>\n",
       "    </tr>\n",
       "    <tr>\n",
       "      <td>Fuel_Price</td>\n",
       "      <td>115064.0</td>\n",
       "      <td>0.0</td>\n",
       "      <td>4.121070e+05</td>\n",
       "      <td>3.581546</td>\n",
       "      <td>3.606</td>\n",
       "      <td>0.239442</td>\n",
       "      <td>5.733244e-02</td>\n",
       "      <td>2.872</td>\n",
       "      <td>2.957</td>\n",
       "      <td>3.161</td>\n",
       "      <td>3.227</td>\n",
       "      <td>3.431</td>\n",
       "      <td>3.606</td>\n",
       "      <td>3.766</td>\n",
       "      <td>3.866</td>\n",
       "      <td>3.951</td>\n",
       "      <td>4.079</td>\n",
       "      <td>4.125</td>\n",
       "    </tr>\n",
       "  </tbody>\n",
       "</table>\n",
       "</div>"
      ],
      "text/plain": [
       "                    N  NMISS           SUM           MEAN      MEDIAN  \\\n",
       "Store        115064.0    0.0  2.558817e+06      22.238207      22.000   \n",
       "Dept         115064.0    0.0  5.101883e+06      44.339524      37.000   \n",
       "Size         115064.0    0.0  1.570597e+10  136497.688921  140167.000   \n",
       "Temperature  115064.0    0.0  6.206760e+06      53.941804      54.470   \n",
       "Fuel_Price   115064.0    0.0  4.121070e+05       3.581546       3.606   \n",
       "\n",
       "                      STD           VAR        MIN         P1         P5  \\\n",
       "Store           12.809930  1.640943e+02      1.000      1.000      3.000   \n",
       "Dept            30.656410  9.398155e+02      1.000      1.000      4.000   \n",
       "Size         61106.926438  3.734056e+09  34875.000  34875.000  39690.000   \n",
       "Temperature     18.724153  3.505939e+02     -7.290     11.440     23.980   \n",
       "Fuel_Price       0.239442  5.733244e-02      2.872      2.957      3.161   \n",
       "\n",
       "                   P10        P25         P50         P75         P90  \\\n",
       "Store            5.000     11.000      22.000      33.000      40.000   \n",
       "Dept             7.000     18.000      37.000      74.000      92.000   \n",
       "Size         39910.000  93638.000  140167.000  202505.000  204184.000   \n",
       "Temperature     29.970     39.820      54.470      67.350      79.480   \n",
       "Fuel_Price       3.227      3.431       3.606       3.766       3.866   \n",
       "\n",
       "                    P95         P99         MAX  \n",
       "Store            43.000      45.000      45.000  \n",
       "Dept             95.000      98.000      99.000  \n",
       "Size         206302.000  219622.000  219622.000  \n",
       "Temperature      83.820      92.140     101.950  \n",
       "Fuel_Price        3.951       4.079       4.125  "
      ]
     },
     "execution_count": 15,
     "metadata": {},
     "output_type": "execute_result"
    }
   ],
   "source": [
    "num_summary=test_num.apply(lambda x: var_summary(x)).T\n",
    "#num_summary.to_excel(writer,'Numeric_variable Summary',index=True)\n",
    "num_summary.head()"
   ]
  },
  {
   "cell_type": "code",
   "execution_count": 16,
   "metadata": {},
   "outputs": [
    {
     "data": {
      "text/html": [
       "<div>\n",
       "<style scoped>\n",
       "    .dataframe tbody tr th:only-of-type {\n",
       "        vertical-align: middle;\n",
       "    }\n",
       "\n",
       "    .dataframe tbody tr th {\n",
       "        vertical-align: top;\n",
       "    }\n",
       "\n",
       "    .dataframe thead th {\n",
       "        text-align: right;\n",
       "    }\n",
       "</style>\n",
       "<table border=\"1\" class=\"dataframe\">\n",
       "  <thead>\n",
       "    <tr style=\"text-align: right;\">\n",
       "      <th></th>\n",
       "      <th>Date</th>\n",
       "      <th>Type</th>\n",
       "    </tr>\n",
       "  </thead>\n",
       "  <tbody>\n",
       "    <tr>\n",
       "      <td>N</td>\n",
       "      <td>115064</td>\n",
       "      <td>115064</td>\n",
       "    </tr>\n",
       "    <tr>\n",
       "      <td>NMISS</td>\n",
       "      <td>0</td>\n",
       "      <td>0</td>\n",
       "    </tr>\n",
       "    <tr>\n",
       "      <td>ColumnsNames</td>\n",
       "      <td>2012-12-21    3002\n",
       "2012-12-07    2989\n",
       "2012-12-...</td>\n",
       "      <td>A    58713\n",
       "B    44500\n",
       "C    11851\n",
       "Name: Type, d...</td>\n",
       "    </tr>\n",
       "  </tbody>\n",
       "</table>\n",
       "</div>"
      ],
      "text/plain": [
       "                                                           Date  \\\n",
       "N                                                        115064   \n",
       "NMISS                                                         0   \n",
       "ColumnsNames  2012-12-21    3002\n",
       "2012-12-07    2989\n",
       "2012-12-...   \n",
       "\n",
       "                                                           Type  \n",
       "N                                                        115064  \n",
       "NMISS                                                         0  \n",
       "ColumnsNames  A    58713\n",
       "B    44500\n",
       "C    11851\n",
       "Name: Type, d...  "
      ]
     },
     "execution_count": 16,
     "metadata": {},
     "output_type": "execute_result"
    }
   ],
   "source": [
    "def cat_summary(x):\n",
    "    return pd.Series([x.count(), x.isnull().sum(), x.value_counts()], \n",
    "                  index=['N', 'NMISS', 'ColumnsNames'])\n",
    "\n",
    "cat_summary=test_cat.apply(lambda x: cat_summary(x))\n",
    "cat_summary"
   ]
  },
  {
   "cell_type": "code",
   "execution_count": 17,
   "metadata": {},
   "outputs": [],
   "source": [
    "#pandas_profiling.ProfileReport(train)"
   ]
  },
  {
   "cell_type": "code",
   "execution_count": 18,
   "metadata": {},
   "outputs": [],
   "source": [
    "#pandas_profiling.ProfileReport(test)"
   ]
  },
  {
   "cell_type": "code",
   "execution_count": 19,
   "metadata": {},
   "outputs": [
    {
     "data": {
      "text/html": [
       "<div>\n",
       "<style scoped>\n",
       "    .dataframe tbody tr th:only-of-type {\n",
       "        vertical-align: middle;\n",
       "    }\n",
       "\n",
       "    .dataframe tbody tr th {\n",
       "        vertical-align: top;\n",
       "    }\n",
       "\n",
       "    .dataframe thead th {\n",
       "        text-align: right;\n",
       "    }\n",
       "</style>\n",
       "<table border=\"1\" class=\"dataframe\">\n",
       "  <thead>\n",
       "    <tr style=\"text-align: right;\">\n",
       "      <th></th>\n",
       "      <th>Store</th>\n",
       "      <th>Dept</th>\n",
       "      <th>Weekly_Sales</th>\n",
       "      <th>IsHoliday</th>\n",
       "      <th>Size</th>\n",
       "      <th>Temperature</th>\n",
       "      <th>Fuel_Price</th>\n",
       "      <th>MarkDown1</th>\n",
       "      <th>MarkDown2</th>\n",
       "      <th>MarkDown3</th>\n",
       "      <th>MarkDown4</th>\n",
       "      <th>MarkDown5</th>\n",
       "      <th>CPI</th>\n",
       "      <th>Unemployment</th>\n",
       "    </tr>\n",
       "  </thead>\n",
       "  <tbody>\n",
       "    <tr>\n",
       "      <td>Store</td>\n",
       "      <td>1.000000</td>\n",
       "      <td>0.024004</td>\n",
       "      <td>-0.085195</td>\n",
       "      <td>-0.000548</td>\n",
       "      <td>-0.182881</td>\n",
       "      <td>-0.050097</td>\n",
       "      <td>0.065290</td>\n",
       "      <td>-0.119588</td>\n",
       "      <td>-0.035173</td>\n",
       "      <td>-0.031556</td>\n",
       "      <td>-0.009941</td>\n",
       "      <td>-0.026634</td>\n",
       "      <td>-0.211088</td>\n",
       "      <td>0.208552</td>\n",
       "    </tr>\n",
       "    <tr>\n",
       "      <td>Dept</td>\n",
       "      <td>0.024004</td>\n",
       "      <td>1.000000</td>\n",
       "      <td>0.148032</td>\n",
       "      <td>0.000916</td>\n",
       "      <td>-0.002966</td>\n",
       "      <td>0.004437</td>\n",
       "      <td>0.003572</td>\n",
       "      <td>-0.002426</td>\n",
       "      <td>0.000290</td>\n",
       "      <td>0.001784</td>\n",
       "      <td>0.004257</td>\n",
       "      <td>0.000109</td>\n",
       "      <td>-0.007477</td>\n",
       "      <td>0.007837</td>\n",
       "    </tr>\n",
       "    <tr>\n",
       "      <td>Weekly_Sales</td>\n",
       "      <td>-0.085195</td>\n",
       "      <td>0.148032</td>\n",
       "      <td>1.000000</td>\n",
       "      <td>0.012774</td>\n",
       "      <td>0.243828</td>\n",
       "      <td>-0.002312</td>\n",
       "      <td>-0.000120</td>\n",
       "      <td>0.085251</td>\n",
       "      <td>0.024130</td>\n",
       "      <td>0.060385</td>\n",
       "      <td>0.045414</td>\n",
       "      <td>0.090362</td>\n",
       "      <td>-0.020921</td>\n",
       "      <td>-0.025864</td>\n",
       "    </tr>\n",
       "    <tr>\n",
       "      <td>IsHoliday</td>\n",
       "      <td>-0.000548</td>\n",
       "      <td>0.000916</td>\n",
       "      <td>0.012774</td>\n",
       "      <td>1.000000</td>\n",
       "      <td>0.000593</td>\n",
       "      <td>-0.155949</td>\n",
       "      <td>-0.078281</td>\n",
       "      <td>-0.035586</td>\n",
       "      <td>0.334818</td>\n",
       "      <td>0.427960</td>\n",
       "      <td>-0.000562</td>\n",
       "      <td>-0.053719</td>\n",
       "      <td>-0.001944</td>\n",
       "      <td>0.010460</td>\n",
       "    </tr>\n",
       "    <tr>\n",
       "      <td>Size</td>\n",
       "      <td>-0.182881</td>\n",
       "      <td>-0.002966</td>\n",
       "      <td>0.243828</td>\n",
       "      <td>0.000593</td>\n",
       "      <td>1.000000</td>\n",
       "      <td>-0.058313</td>\n",
       "      <td>0.003361</td>\n",
       "      <td>0.345673</td>\n",
       "      <td>0.108827</td>\n",
       "      <td>0.048913</td>\n",
       "      <td>0.168196</td>\n",
       "      <td>0.304575</td>\n",
       "      <td>-0.003314</td>\n",
       "      <td>-0.068238</td>\n",
       "    </tr>\n",
       "  </tbody>\n",
       "</table>\n",
       "</div>"
      ],
      "text/plain": [
       "                 Store      Dept  Weekly_Sales  IsHoliday      Size  \\\n",
       "Store         1.000000  0.024004     -0.085195  -0.000548 -0.182881   \n",
       "Dept          0.024004  1.000000      0.148032   0.000916 -0.002966   \n",
       "Weekly_Sales -0.085195  0.148032      1.000000   0.012774  0.243828   \n",
       "IsHoliday    -0.000548  0.000916      0.012774   1.000000  0.000593   \n",
       "Size         -0.182881 -0.002966      0.243828   0.000593  1.000000   \n",
       "\n",
       "              Temperature  Fuel_Price  MarkDown1  MarkDown2  MarkDown3  \\\n",
       "Store           -0.050097    0.065290  -0.119588  -0.035173  -0.031556   \n",
       "Dept             0.004437    0.003572  -0.002426   0.000290   0.001784   \n",
       "Weekly_Sales    -0.002312   -0.000120   0.085251   0.024130   0.060385   \n",
       "IsHoliday       -0.155949   -0.078281  -0.035586   0.334818   0.427960   \n",
       "Size            -0.058313    0.003361   0.345673   0.108827   0.048913   \n",
       "\n",
       "              MarkDown4  MarkDown5       CPI  Unemployment  \n",
       "Store         -0.009941  -0.026634 -0.211088      0.208552  \n",
       "Dept           0.004257   0.000109 -0.007477      0.007837  \n",
       "Weekly_Sales   0.045414   0.090362 -0.020921     -0.025864  \n",
       "IsHoliday     -0.000562  -0.053719 -0.001944      0.010460  \n",
       "Size           0.168196   0.304575 -0.003314     -0.068238  "
      ]
     },
     "execution_count": 19,
     "metadata": {},
     "output_type": "execute_result"
    }
   ],
   "source": [
    "train_corr=pd.DataFrame(train.corr())\n",
    "train_corr.to_excel(writer,'Train_Data Corr',index=True)\n",
    "train_corr.head()"
   ]
  },
  {
   "cell_type": "code",
   "execution_count": 20,
   "metadata": {},
   "outputs": [
    {
     "data": {
      "text/html": [
       "<div>\n",
       "<style scoped>\n",
       "    .dataframe tbody tr th:only-of-type {\n",
       "        vertical-align: middle;\n",
       "    }\n",
       "\n",
       "    .dataframe tbody tr th {\n",
       "        vertical-align: top;\n",
       "    }\n",
       "\n",
       "    .dataframe thead th {\n",
       "        text-align: right;\n",
       "    }\n",
       "</style>\n",
       "<table border=\"1\" class=\"dataframe\">\n",
       "  <thead>\n",
       "    <tr style=\"text-align: right;\">\n",
       "      <th></th>\n",
       "      <th>Store</th>\n",
       "      <th>Dept</th>\n",
       "      <th>IsHoliday</th>\n",
       "      <th>Size</th>\n",
       "      <th>Temperature</th>\n",
       "      <th>Fuel_Price</th>\n",
       "      <th>MarkDown1</th>\n",
       "      <th>MarkDown2</th>\n",
       "      <th>MarkDown3</th>\n",
       "      <th>MarkDown4</th>\n",
       "      <th>MarkDown5</th>\n",
       "      <th>CPI</th>\n",
       "      <th>Unemployment</th>\n",
       "    </tr>\n",
       "  </thead>\n",
       "  <tbody>\n",
       "    <tr>\n",
       "      <td>Store</td>\n",
       "      <td>1.000000</td>\n",
       "      <td>0.019627</td>\n",
       "      <td>-0.001166</td>\n",
       "      <td>-0.186845</td>\n",
       "      <td>-0.043495</td>\n",
       "      <td>0.153425</td>\n",
       "      <td>-0.091707</td>\n",
       "      <td>-0.041370</td>\n",
       "      <td>-0.025177</td>\n",
       "      <td>0.010331</td>\n",
       "      <td>0.010419</td>\n",
       "      <td>-0.214872</td>\n",
       "      <td>0.250321</td>\n",
       "    </tr>\n",
       "    <tr>\n",
       "      <td>Dept</td>\n",
       "      <td>0.019627</td>\n",
       "      <td>1.000000</td>\n",
       "      <td>0.001249</td>\n",
       "      <td>0.001502</td>\n",
       "      <td>0.003970</td>\n",
       "      <td>0.000554</td>\n",
       "      <td>-0.002353</td>\n",
       "      <td>0.001292</td>\n",
       "      <td>0.000247</td>\n",
       "      <td>0.002510</td>\n",
       "      <td>0.000776</td>\n",
       "      <td>-0.006336</td>\n",
       "      <td>0.004087</td>\n",
       "    </tr>\n",
       "    <tr>\n",
       "      <td>IsHoliday</td>\n",
       "      <td>-0.001166</td>\n",
       "      <td>0.001249</td>\n",
       "      <td>1.000000</td>\n",
       "      <td>-0.000443</td>\n",
       "      <td>-0.187428</td>\n",
       "      <td>-0.126443</td>\n",
       "      <td>0.355257</td>\n",
       "      <td>0.265402</td>\n",
       "      <td>0.496062</td>\n",
       "      <td>0.289700</td>\n",
       "      <td>-0.019386</td>\n",
       "      <td>-0.001475</td>\n",
       "      <td>0.010288</td>\n",
       "    </tr>\n",
       "    <tr>\n",
       "      <td>Size</td>\n",
       "      <td>-0.186845</td>\n",
       "      <td>0.001502</td>\n",
       "      <td>-0.000443</td>\n",
       "      <td>1.000000</td>\n",
       "      <td>-0.061256</td>\n",
       "      <td>0.055088</td>\n",
       "      <td>0.309614</td>\n",
       "      <td>0.157526</td>\n",
       "      <td>0.050088</td>\n",
       "      <td>0.155448</td>\n",
       "      <td>0.103681</td>\n",
       "      <td>-0.002916</td>\n",
       "      <td>-0.001988</td>\n",
       "    </tr>\n",
       "    <tr>\n",
       "      <td>Temperature</td>\n",
       "      <td>-0.043495</td>\n",
       "      <td>0.003970</td>\n",
       "      <td>-0.187428</td>\n",
       "      <td>-0.061256</td>\n",
       "      <td>1.000000</td>\n",
       "      <td>0.073938</td>\n",
       "      <td>-0.168899</td>\n",
       "      <td>-0.324280</td>\n",
       "      <td>-0.049771</td>\n",
       "      <td>-0.059583</td>\n",
       "      <td>0.003937</td>\n",
       "      <td>0.280861</td>\n",
       "      <td>0.022136</td>\n",
       "    </tr>\n",
       "  </tbody>\n",
       "</table>\n",
       "</div>"
      ],
      "text/plain": [
       "                Store      Dept  IsHoliday      Size  Temperature  Fuel_Price  \\\n",
       "Store        1.000000  0.019627  -0.001166 -0.186845    -0.043495    0.153425   \n",
       "Dept         0.019627  1.000000   0.001249  0.001502     0.003970    0.000554   \n",
       "IsHoliday   -0.001166  0.001249   1.000000 -0.000443    -0.187428   -0.126443   \n",
       "Size        -0.186845  0.001502  -0.000443  1.000000    -0.061256    0.055088   \n",
       "Temperature -0.043495  0.003970  -0.187428 -0.061256     1.000000    0.073938   \n",
       "\n",
       "             MarkDown1  MarkDown2  MarkDown3  MarkDown4  MarkDown5       CPI  \\\n",
       "Store        -0.091707  -0.041370  -0.025177   0.010331   0.010419 -0.214872   \n",
       "Dept         -0.002353   0.001292   0.000247   0.002510   0.000776 -0.006336   \n",
       "IsHoliday     0.355257   0.265402   0.496062   0.289700  -0.019386 -0.001475   \n",
       "Size          0.309614   0.157526   0.050088   0.155448   0.103681 -0.002916   \n",
       "Temperature  -0.168899  -0.324280  -0.049771  -0.059583   0.003937  0.280861   \n",
       "\n",
       "             Unemployment  \n",
       "Store            0.250321  \n",
       "Dept             0.004087  \n",
       "IsHoliday        0.010288  \n",
       "Size            -0.001988  \n",
       "Temperature      0.022136  "
      ]
     },
     "execution_count": 20,
     "metadata": {},
     "output_type": "execute_result"
    }
   ],
   "source": [
    "test_corr=pd.DataFrame(test.corr())\n",
    "#test_corr.to_excel(writer,'Test_Data Corr',index=True)\n",
    "test_corr.head()"
   ]
  },
  {
   "cell_type": "code",
   "execution_count": 21,
   "metadata": {},
   "outputs": [
    {
     "data": {
      "text/plain": [
       "<matplotlib.axes._subplots.AxesSubplot at 0x5c49d1a8c8>"
      ]
     },
     "execution_count": 21,
     "metadata": {},
     "output_type": "execute_result"
    },
    {
     "data": {
      "image/png": "[encoded data removed]",
      "text/plain": [
       "<Figure size 432x288 with 2 Axes>"
      ]
     },
     "metadata": {
      "needs_background": "light"
     },
     "output_type": "display_data"
    }
   ],
   "source": [
    "# visualize correlation matrix in Seaborn using a heatmap\n",
    "sns.heatmap(train.corr())"
   ]
  },
  {
   "cell_type": "code",
   "execution_count": 22,
   "metadata": {},
   "outputs": [
    {
     "data": {
      "text/plain": [
       "<matplotlib.axes._subplots.AxesSubplot at 0x5c37d0e188>"
      ]
     },
     "execution_count": 22,
     "metadata": {},
     "output_type": "execute_result"
    },
    {
     "data": {
      "image/png": "[encoded data removed]",
      "text/plain": [
       "<Figure size 432x288 with 2 Axes>"
      ]
     },
     "metadata": {
      "needs_background": "light"
     },
     "output_type": "display_data"
    }
   ],
   "source": [
    "# visualize correlation matrix in Seaborn using a heatmap\n",
    "sns.heatmap(test.corr())"
   ]
  },
  {
   "cell_type": "code",
   "execution_count": 23,
   "metadata": {},
   "outputs": [
    {
     "data": {
      "text/plain": [
       "<matplotlib.axes._subplots.AxesSubplot at 0x5c37d82688>"
      ]
     },
     "execution_count": 23,
     "metadata": {},
     "output_type": "execute_result"
    },
    {
     "data": {
      "image/png": "[encoded data removed]",
      "text/plain": [
       "<Figure size 432x288 with 1 Axes>"
      ]
     },
     "metadata": {
      "needs_background": "light"
     },
     "output_type": "display_data"
    }
   ],
   "source": [
    "train['Store'].value_counts(normalize=True).plot(kind = 'bar',fig=(4,5))"
   ]
  },
  {
   "cell_type": "code",
   "execution_count": 24,
   "metadata": {},
   "outputs": [
    {
     "data": {
      "text/plain": [
       "<matplotlib.axes._subplots.AxesSubplot at 0x5c3844d208>"
      ]
     },
     "execution_count": 24,
     "metadata": {},
     "output_type": "execute_result"
    },
    {
     "data": {
      "image/png": "[encoded data removed]",
      "text/plain": [
       "<Figure size 432x288 with 1 Axes>"
      ]
     },
     "metadata": {
      "needs_background": "light"
     },
     "output_type": "display_data"
    }
   ],
   "source": [
    "sns.distplot(train.Weekly_Sales)"
   ]
  },
  {
   "cell_type": "code",
   "execution_count": 25,
   "metadata": {},
   "outputs": [
    {
     "data": {
      "text/plain": [
       "<matplotlib.axes._subplots.AxesSubplot at 0x5c39fe5f48>"
      ]
     },
     "execution_count": 25,
     "metadata": {},
     "output_type": "execute_result"
    },
    {
     "data": {
      "image/png": "[encoded data removed]",
      "text/plain": [
       "<Figure size 432x288 with 1 Axes>"
      ]
     },
     "metadata": {
      "needs_background": "light"
     },
     "output_type": "display_data"
    }
   ],
   "source": [
    "train.plot(kind='line', x='Weekly_Sales', y='Store', alpha=0.5)"
   ]
  },
  {
   "cell_type": "code",
   "execution_count": 26,
   "metadata": {},
   "outputs": [
    {
     "data": {
      "text/plain": [
       "<matplotlib.axes._subplots.AxesSubplot at 0x5c3a03cf88>"
      ]
     },
     "execution_count": 26,
     "metadata": {},
     "output_type": "execute_result"
    },
    {
     "data": {
      "image/png": "[encoded data removed]",
      "text/plain": [
       "<Figure size 432x288 with 1 Axes>"
      ]
     },
     "metadata": {
      "needs_background": "light"
     },
     "output_type": "display_data"
    }
   ],
   "source": [
    "sns.barplot(x=train[\"Weekly_Sales\"],y=train[\"Type\"])"
   ]
  },
  {
   "cell_type": "code",
   "execution_count": 27,
   "metadata": {},
   "outputs": [
    {
     "data": {
      "text/plain": [
       "<matplotlib.axes._subplots.AxesSubplot at 0x5c3a0dcb48>"
      ]
     },
     "execution_count": 27,
     "metadata": {},
     "output_type": "execute_result"
    },
    {
     "data": {
      "image/png": "[encoded data removed]",
      "text/plain": [
       "<Figure size 432x288 with 1 Axes>"
      ]
     },
     "metadata": {
      "needs_background": "light"
     },
     "output_type": "display_data"
    }
   ],
   "source": [
    "train.plot(kind='line', x='Dept', y='Weekly_Sales', alpha=1.5,fig=(4,5))"
   ]
  },
  {
   "cell_type": "code",
   "execution_count": 28,
   "metadata": {},
   "outputs": [
    {
     "name": "stdout",
     "output_type": "stream",
     "text": [
      "Store                0\n",
      "Dept                 0\n",
      "Date                 0\n",
      "Weekly_Sales         0\n",
      "IsHoliday            0\n",
      "Type                 0\n",
      "Size                 0\n",
      "Temperature          0\n",
      "Fuel_Price           0\n",
      "MarkDown1       270889\n",
      "MarkDown2       310322\n",
      "MarkDown3       284479\n",
      "MarkDown4       286603\n",
      "MarkDown5       270138\n",
      "CPI                  0\n",
      "Unemployment         0\n",
      "dtype: int64\n",
      "******************************\n",
      "Store               0\n",
      "Dept                0\n",
      "Date                0\n",
      "IsHoliday           0\n",
      "Type                0\n",
      "Size                0\n",
      "Temperature         0\n",
      "Fuel_Price          0\n",
      "MarkDown1         149\n",
      "MarkDown2       28627\n",
      "MarkDown3        9829\n",
      "MarkDown4       12888\n",
      "MarkDown5           0\n",
      "CPI             38162\n",
      "Unemployment    38162\n",
      "dtype: int64\n"
     ]
    }
   ],
   "source": [
    "#Missing VAlues\n",
    "print (train.isnull().sum())\n",
    "print (\"*\"*30)\n",
    "print (test.isnull().sum())"
   ]
  },
  {
   "cell_type": "code",
   "execution_count": 29,
   "metadata": {},
   "outputs": [],
   "source": [
    "test['CPI']=test.groupby(['Dept'])['CPI'].transform(lambda x: x.fillna(x.mean()))\n",
    "test['Unemployment']=test.groupby(['Dept'])['Unemployment'].transform(lambda x: x.fillna(x.mean()))"
   ]
  },
  {
   "cell_type": "code",
   "execution_count": 30,
   "metadata": {},
   "outputs": [],
   "source": [
    "train=train.fillna(0)\n",
    "test=test.fillna(0)"
   ]
  },
  {
   "cell_type": "code",
   "execution_count": 31,
   "metadata": {},
   "outputs": [
    {
     "name": "stdout",
     "output_type": "stream",
     "text": [
      "Store           0\n",
      "Dept            0\n",
      "Date            0\n",
      "Weekly_Sales    0\n",
      "IsHoliday       0\n",
      "Type            0\n",
      "Size            0\n",
      "Temperature     0\n",
      "Fuel_Price      0\n",
      "MarkDown1       0\n",
      "MarkDown2       0\n",
      "MarkDown3       0\n",
      "MarkDown4       0\n",
      "MarkDown5       0\n",
      "CPI             0\n",
      "Unemployment    0\n",
      "dtype: int64\n",
      "******************************\n",
      "Store           0\n",
      "Dept            0\n",
      "Date            0\n",
      "IsHoliday       0\n",
      "Type            0\n",
      "Size            0\n",
      "Temperature     0\n",
      "Fuel_Price      0\n",
      "MarkDown1       0\n",
      "MarkDown2       0\n",
      "MarkDown3       0\n",
      "MarkDown4       0\n",
      "MarkDown5       0\n",
      "CPI             0\n",
      "Unemployment    0\n",
      "dtype: int64\n"
     ]
    }
   ],
   "source": [
    "print (train.isnull().sum())\n",
    "print (\"*\"*30)\n",
    "print (test.isnull().sum())"
   ]
  },
  {
   "cell_type": "code",
   "execution_count": 32,
   "metadata": {},
   "outputs": [],
   "source": [
    "train.Weekly_Sales=np.where(train.Weekly_Sales>100000, 100000,train.Weekly_Sales)"
   ]
  },
  {
   "cell_type": "code",
   "execution_count": 33,
   "metadata": {},
   "outputs": [
    {
     "data": {
      "text/plain": [
       "<matplotlib.axes._subplots.AxesSubplot at 0x5c3c25e808>"
      ]
     },
     "execution_count": 33,
     "metadata": {},
     "output_type": "execute_result"
    },
    {
     "data": {
      "image/png": "[encoded data removed]",
      "text/plain": [
       "<Figure size 432x288 with 1 Axes>"
      ]
     },
     "metadata": {
      "needs_background": "light"
     },
     "output_type": "display_data"
    }
   ],
   "source": [
    "train.Weekly_Sales.plot.hist(bins=25)"
   ]
  },
  {
   "cell_type": "code",
   "execution_count": 34,
   "metadata": {},
   "outputs": [
    {
     "name": "stdout",
     "output_type": "stream",
     "text": [
      "<class 'pandas.core.frame.DataFrame'>\n",
      "Int64Index: 421570 entries, 0 to 421569\n",
      "Data columns (total 16 columns):\n",
      "Store           421570 non-null int64\n",
      "Dept            421570 non-null int64\n",
      "Date            421570 non-null object\n",
      "Weekly_Sales    421570 non-null float64\n",
      "IsHoliday       421570 non-null bool\n",
      "Type            421570 non-null object\n",
      "Size            421570 non-null int64\n",
      "Temperature     421570 non-null float64\n",
      "Fuel_Price      421570 non-null float64\n",
      "MarkDown1       421570 non-null float64\n",
      "MarkDown2       421570 non-null float64\n",
      "MarkDown3       421570 non-null float64\n",
      "MarkDown4       421570 non-null float64\n",
      "MarkDown5       421570 non-null float64\n",
      "CPI             421570 non-null float64\n",
      "Unemployment    421570 non-null float64\n",
      "dtypes: bool(1), float64(10), int64(3), object(2)\n",
      "memory usage: 71.9+ MB\n"
     ]
    }
   ],
   "source": [
    "train.info()"
   ]
  },
  {
   "cell_type": "code",
   "execution_count": 35,
   "metadata": {},
   "outputs": [],
   "source": [
    "train['Date'] = pd.to_datetime(train['Date'])\n",
    "test['Date'] = pd.to_datetime(test['Date'])"
   ]
  },
  {
   "cell_type": "code",
   "execution_count": 36,
   "metadata": {},
   "outputs": [],
   "source": [
    "# Extract date features\n",
    "train['Date_dayofweek'] =train['Date'].dt.dayofweek\n",
    "train['Date_month'] =train['Date'].dt.month \n",
    "train['Date_year'] =train['Date'].dt.year\n",
    "train['Date_day'] =train['Date'].dt.day \n",
    "\n",
    "test['Date_dayofweek'] =test['Date'].dt.dayofweek\n",
    "test['Date_month'] =test['Date'].dt.month \n",
    "test['Date_year'] =test['Date'].dt.year\n",
    "test['Date_day'] =test['Date'].dt.day "
   ]
  },
  {
   "cell_type": "code",
   "execution_count": 37,
   "metadata": {},
   "outputs": [
    {
     "name": "stdout",
     "output_type": "stream",
     "text": [
      "A    215478\n",
      "B    163495\n",
      "C     42597\n",
      "Name: Type, dtype: int64\n",
      "******************************\n",
      "A    58713\n",
      "B    44500\n",
      "C    11851\n",
      "Name: Type, dtype: int64\n"
     ]
    }
   ],
   "source": [
    "print (train.Type.value_counts())\n",
    "print (\"*\"*30)\n",
    "print (test.Type.value_counts())"
   ]
  },
  {
   "cell_type": "code",
   "execution_count": 38,
   "metadata": {},
   "outputs": [
    {
     "name": "stdout",
     "output_type": "stream",
     "text": [
      "False    391909\n",
      "True      29661\n",
      "Name: IsHoliday, dtype: int64\n",
      "******************************\n",
      "False    106136\n",
      "True       8928\n",
      "Name: IsHoliday, dtype: int64\n"
     ]
    }
   ],
   "source": [
    "print (train.IsHoliday.value_counts())\n",
    "print (\"*\"*30)\n",
    "print (test.IsHoliday.value_counts())"
   ]
  },
  {
   "cell_type": "code",
   "execution_count": 39,
   "metadata": {},
   "outputs": [],
   "source": [
    "train_test_data = [train, test]"
   ]
  },
  {
   "cell_type": "code",
   "execution_count": 40,
   "metadata": {},
   "outputs": [],
   "source": [
    "type_mapping = {\"A\": 1, \"B\": 2, \"C\": 3}\n",
    "for dataset in train_test_data:\n",
    "    dataset['Type'] = dataset['Type'].map(type_mapping)"
   ]
  },
  {
   "cell_type": "code",
   "execution_count": 41,
   "metadata": {},
   "outputs": [],
   "source": [
    "# comnverting categoricail holidays date into numerical\n",
    "type_mapping = {False: 0, True: 1}\n",
    "for dataset in train_test_data:\n",
    "    dataset['IsHoliday'] = dataset['IsHoliday'].map(type_mapping)"
   ]
  },
  {
   "cell_type": "code",
   "execution_count": 42,
   "metadata": {},
   "outputs": [],
   "source": [
    "train['Super_Bowl'] = np.where((train['Date']==datetime(2010, 2, 12)) | (train['Date']==datetime(2011, 2, 11)) | (train['Date']==datetime(2012, 2, 10)) | (train['Date']==datetime(2013, 2, 8)),1,0)\n",
    "train['Labour_Day'] = np.where((train['Date']==datetime(2010, 9, 10)) | (train['Date']==datetime(2011, 9, 9)) | (train['Date']==datetime(2012, 9, 7)) | (train['Date']==datetime(2013, 9, 6)),1,0)\n",
    "train['Thanksgiving'] = np.where((train['Date']==datetime(2010, 11, 26)) | (train['Date']==datetime(2011, 11, 25)) | (train['Date']==datetime(2012, 11, 23)) | (train['Date']==datetime(2013, 11, 29)),1,0)\n",
    "train['Christmas'] = np.where((train['Date']==datetime(2010, 12, 31)) | (train['Date']==datetime(2011, 12, 30)) | (train['Date']==datetime(2012, 12, 28)) | (train['Date']==datetime(2013, 12, 27)),1,0)\n",
    "#........................................................................\n",
    "test['Super_Bowl'] = np.where((test['Date']==datetime(2010, 2, 12)) | (test['Date']==datetime(2011, 2, 11)) | (test['Date']==datetime(2012, 2, 10)) | (test['Date']==datetime(2013, 2, 8)),1,0)\n",
    "test['Labour_Day'] = np.where((test['Date']==datetime(2010, 9, 10)) | (test['Date']==datetime(2011, 9, 9)) | (test['Date']==datetime(2012, 9, 7)) | (test['Date']==datetime(2013, 9, 6)),1,0)\n",
    "test['Thanksgiving'] = np.where((test['Date']==datetime(2010, 11, 26)) | (test['Date']==datetime(2011, 11, 25)) | (test['Date']==datetime(2012, 11, 23)) | (test['Date']==datetime(2013, 11, 29)),1,0)\n",
    "test['Christmas'] = np.where((test['Date']==datetime(2010, 12, 31)) | (test['Date']==datetime(2011, 12, 30)) | (test['Date']==datetime(2012, 12, 28)) | (test['Date']==datetime(2013, 12, 27)),1,0)\n"
   ]
  },
  {
   "cell_type": "code",
   "execution_count": 43,
   "metadata": {},
   "outputs": [],
   "source": [
    "# Altering the isHoliday value depending on these new holidays...\n",
    "train['IsHoliday']=train['IsHoliday']|train['Super_Bowl']|train['Labour_Day']|train['Thanksgiving']|train['Christmas']\n",
    "test['IsHoliday']=test['IsHoliday']|test['Super_Bowl']|test['Labour_Day']|test['Thanksgiving']|test['Christmas']"
   ]
  },
  {
   "cell_type": "code",
   "execution_count": 44,
   "metadata": {},
   "outputs": [
    {
     "name": "stdout",
     "output_type": "stream",
     "text": [
      "0    415624\n",
      "1      5946\n",
      "Name: Christmas, dtype: int64\n",
      "0    412675\n",
      "1      8895\n",
      "Name: Super_Bowl, dtype: int64\n",
      "0    415611\n",
      "1      5959\n",
      "Name: Thanksgiving, dtype: int64\n",
      "0    412709\n",
      "1      8861\n",
      "Name: Labour_Day, dtype: int64\n",
      "0    112076\n",
      "1      2988\n",
      "Name: Christmas, dtype: int64\n",
      "0    112100\n",
      "1      2964\n",
      "Name: Super_Bowl, dtype: int64\n",
      "0    112088\n",
      "1      2976\n",
      "Name: Thanksgiving, dtype: int64\n",
      "0    115064\n",
      "Name: Labour_Day, dtype: int64\n"
     ]
    }
   ],
   "source": [
    "print (train.Christmas.value_counts())\n",
    "print (train.Super_Bowl.value_counts())\n",
    "print (train.Thanksgiving.value_counts())\n",
    "print (train.Labour_Day.value_counts())\n",
    "print (test.Christmas.value_counts())\n",
    "print (test.Super_Bowl.value_counts())\n",
    "print (test.Thanksgiving.value_counts())\n",
    "print (test.Labour_Day.value_counts())"
   ]
  },
  {
   "cell_type": "code",
   "execution_count": 45,
   "metadata": {},
   "outputs": [],
   "source": [
    "# Since we have Imputed IsHoliday according to Extra holidays..These extra holiday variable has redundant..\n",
    "# Droping the Extra holiday variables because its redundant..\n",
    "dp=['Super_Bowl','Labour_Day','Thanksgiving','Christmas']\n",
    "train.drop(dp,axis=1,inplace=True)\n",
    "test.drop(dp,axis=1,inplace=True)"
   ]
  },
  {
   "cell_type": "code",
   "execution_count": 46,
   "metadata": {},
   "outputs": [
    {
     "name": "stdout",
     "output_type": "stream",
     "text": [
      "<class 'pandas.core.frame.DataFrame'>\n",
      "Int64Index: 421570 entries, 0 to 421569\n",
      "Data columns (total 20 columns):\n",
      "Store             421570 non-null int64\n",
      "Dept              421570 non-null int64\n",
      "Date              421570 non-null datetime64[ns]\n",
      "Weekly_Sales      421570 non-null float64\n",
      "IsHoliday         421570 non-null int64\n",
      "Type              421570 non-null int64\n",
      "Size              421570 non-null int64\n",
      "Temperature       421570 non-null float64\n",
      "Fuel_Price        421570 non-null float64\n",
      "MarkDown1         421570 non-null float64\n",
      "MarkDown2         421570 non-null float64\n",
      "MarkDown3         421570 non-null float64\n",
      "MarkDown4         421570 non-null float64\n",
      "MarkDown5         421570 non-null float64\n",
      "CPI               421570 non-null float64\n",
      "Unemployment      421570 non-null float64\n",
      "Date_dayofweek    421570 non-null int64\n",
      "Date_month        421570 non-null int64\n",
      "Date_year         421570 non-null int64\n",
      "Date_day          421570 non-null int64\n",
      "dtypes: datetime64[ns](1), float64(10), int64(9)\n",
      "memory usage: 87.5 MB\n"
     ]
    }
   ],
   "source": [
    "train.info()"
   ]
  },
  {
   "cell_type": "code",
   "execution_count": 47,
   "metadata": {},
   "outputs": [],
   "source": [
    "#Since we have imputed markdown variables therefore we will not be removing the all markdown variables\n",
    "#Removing MarkDown5 because its Highly Skewe\n",
    "features_drop=['Unemployment','CPI','MarkDown5']\n",
    "train=train.drop(features_drop, axis=1)\n",
    "test=test.drop(features_drop, axis=1)"
   ]
  },
  {
   "cell_type": "code",
   "execution_count": 48,
   "metadata": {},
   "outputs": [
    {
     "data": {
      "text/html": [
       "<div>\n",
       "<style scoped>\n",
       "    .dataframe tbody tr th:only-of-type {\n",
       "        vertical-align: middle;\n",
       "    }\n",
       "\n",
       "    .dataframe tbody tr th {\n",
       "        vertical-align: top;\n",
       "    }\n",
       "\n",
       "    .dataframe thead th {\n",
       "        text-align: right;\n",
       "    }\n",
       "</style>\n",
       "<table border=\"1\" class=\"dataframe\">\n",
       "  <thead>\n",
       "    <tr style=\"text-align: right;\">\n",
       "      <th></th>\n",
       "      <th>Store</th>\n",
       "      <th>Dept</th>\n",
       "      <th>Date</th>\n",
       "      <th>Weekly_Sales</th>\n",
       "      <th>IsHoliday</th>\n",
       "      <th>Type</th>\n",
       "      <th>Size</th>\n",
       "      <th>Temperature</th>\n",
       "      <th>Fuel_Price</th>\n",
       "      <th>MarkDown1</th>\n",
       "      <th>MarkDown2</th>\n",
       "      <th>MarkDown3</th>\n",
       "      <th>MarkDown4</th>\n",
       "      <th>Date_dayofweek</th>\n",
       "      <th>Date_month</th>\n",
       "      <th>Date_year</th>\n",
       "      <th>Date_day</th>\n",
       "    </tr>\n",
       "  </thead>\n",
       "  <tbody>\n",
       "    <tr>\n",
       "      <td>0</td>\n",
       "      <td>1</td>\n",
       "      <td>1</td>\n",
       "      <td>2010-02-05</td>\n",
       "      <td>24924.50</td>\n",
       "      <td>0</td>\n",
       "      <td>1</td>\n",
       "      <td>151315</td>\n",
       "      <td>42.31</td>\n",
       "      <td>2.572</td>\n",
       "      <td>0.0</td>\n",
       "      <td>0.0</td>\n",
       "      <td>0.0</td>\n",
       "      <td>0.0</td>\n",
       "      <td>4</td>\n",
       "      <td>2</td>\n",
       "      <td>2010</td>\n",
       "      <td>5</td>\n",
       "    </tr>\n",
       "    <tr>\n",
       "      <td>1</td>\n",
       "      <td>1</td>\n",
       "      <td>2</td>\n",
       "      <td>2010-02-05</td>\n",
       "      <td>50605.27</td>\n",
       "      <td>0</td>\n",
       "      <td>1</td>\n",
       "      <td>151315</td>\n",
       "      <td>42.31</td>\n",
       "      <td>2.572</td>\n",
       "      <td>0.0</td>\n",
       "      <td>0.0</td>\n",
       "      <td>0.0</td>\n",
       "      <td>0.0</td>\n",
       "      <td>4</td>\n",
       "      <td>2</td>\n",
       "      <td>2010</td>\n",
       "      <td>5</td>\n",
       "    </tr>\n",
       "  </tbody>\n",
       "</table>\n",
       "</div>"
      ],
      "text/plain": [
       "   Store  Dept       Date  Weekly_Sales  IsHoliday  Type    Size  Temperature  \\\n",
       "0      1     1 2010-02-05      24924.50          0     1  151315        42.31   \n",
       "1      1     2 2010-02-05      50605.27          0     1  151315        42.31   \n",
       "\n",
       "   Fuel_Price  MarkDown1  MarkDown2  MarkDown3  MarkDown4  Date_dayofweek  \\\n",
       "0       2.572        0.0        0.0        0.0        0.0               4   \n",
       "1       2.572        0.0        0.0        0.0        0.0               4   \n",
       "\n",
       "   Date_month  Date_year  Date_day  \n",
       "0           2       2010         5  \n",
       "1           2       2010         5  "
      ]
     },
     "execution_count": 48,
     "metadata": {},
     "output_type": "execute_result"
    }
   ],
   "source": [
    "train.head(2)"
   ]
  },
  {
   "cell_type": "code",
   "execution_count": 49,
   "metadata": {},
   "outputs": [
    {
     "data": {
      "text/html": [
       "<div>\n",
       "<style scoped>\n",
       "    .dataframe tbody tr th:only-of-type {\n",
       "        vertical-align: middle;\n",
       "    }\n",
       "\n",
       "    .dataframe tbody tr th {\n",
       "        vertical-align: top;\n",
       "    }\n",
       "\n",
       "    .dataframe thead th {\n",
       "        text-align: right;\n",
       "    }\n",
       "</style>\n",
       "<table border=\"1\" class=\"dataframe\">\n",
       "  <thead>\n",
       "    <tr style=\"text-align: right;\">\n",
       "      <th></th>\n",
       "      <th>Store</th>\n",
       "      <th>Dept</th>\n",
       "      <th>Date</th>\n",
       "      <th>IsHoliday</th>\n",
       "      <th>Type</th>\n",
       "      <th>Size</th>\n",
       "      <th>Temperature</th>\n",
       "      <th>Fuel_Price</th>\n",
       "      <th>MarkDown1</th>\n",
       "      <th>MarkDown2</th>\n",
       "      <th>MarkDown3</th>\n",
       "      <th>MarkDown4</th>\n",
       "      <th>Date_dayofweek</th>\n",
       "      <th>Date_month</th>\n",
       "      <th>Date_year</th>\n",
       "      <th>Date_day</th>\n",
       "    </tr>\n",
       "  </thead>\n",
       "  <tbody>\n",
       "    <tr>\n",
       "      <td>0</td>\n",
       "      <td>1</td>\n",
       "      <td>1</td>\n",
       "      <td>2012-11-02</td>\n",
       "      <td>0</td>\n",
       "      <td>1</td>\n",
       "      <td>151315</td>\n",
       "      <td>55.32</td>\n",
       "      <td>3.386</td>\n",
       "      <td>6766.44</td>\n",
       "      <td>5147.7</td>\n",
       "      <td>50.82</td>\n",
       "      <td>3639.9</td>\n",
       "      <td>4</td>\n",
       "      <td>11</td>\n",
       "      <td>2012</td>\n",
       "      <td>2</td>\n",
       "    </tr>\n",
       "    <tr>\n",
       "      <td>1</td>\n",
       "      <td>1</td>\n",
       "      <td>2</td>\n",
       "      <td>2012-11-02</td>\n",
       "      <td>0</td>\n",
       "      <td>1</td>\n",
       "      <td>151315</td>\n",
       "      <td>55.32</td>\n",
       "      <td>3.386</td>\n",
       "      <td>6766.44</td>\n",
       "      <td>5147.7</td>\n",
       "      <td>50.82</td>\n",
       "      <td>3639.9</td>\n",
       "      <td>4</td>\n",
       "      <td>11</td>\n",
       "      <td>2012</td>\n",
       "      <td>2</td>\n",
       "    </tr>\n",
       "  </tbody>\n",
       "</table>\n",
       "</div>"
      ],
      "text/plain": [
       "   Store  Dept       Date  IsHoliday  Type    Size  Temperature  Fuel_Price  \\\n",
       "0      1     1 2012-11-02          0     1  151315        55.32       3.386   \n",
       "1      1     2 2012-11-02          0     1  151315        55.32       3.386   \n",
       "\n",
       "   MarkDown1  MarkDown2  MarkDown3  MarkDown4  Date_dayofweek  Date_month  \\\n",
       "0    6766.44     5147.7      50.82     3639.9               4          11   \n",
       "1    6766.44     5147.7      50.82     3639.9               4          11   \n",
       "\n",
       "   Date_year  Date_day  \n",
       "0       2012         2  \n",
       "1       2012         2  "
      ]
     },
     "execution_count": 49,
     "metadata": {},
     "output_type": "execute_result"
    }
   ],
   "source": [
    "test.head(2)"
   ]
  },
  {
   "cell_type": "code",
   "execution_count": 50,
   "metadata": {},
   "outputs": [
    {
     "data": {
      "text/plain": [
       "((421570, 15), (421570,), (115064, 15))"
      ]
     },
     "execution_count": 50,
     "metadata": {},
     "output_type": "execute_result"
    }
   ],
   "source": [
    "#### train X= Exery thing except Weekly_Sales\n",
    "train_X=train.drop(['Weekly_Sales','Date'], axis=1)\n",
    "\n",
    "#### train Y= Only Weekly_Sales \n",
    "train_y=train['Weekly_Sales'] \n",
    "test_X=test.drop('Date',axis=1).copy()\n",
    "\n",
    "train_X.shape, train_y.shape, test_X.shape"
   ]
  },
  {
   "cell_type": "code",
   "execution_count": 51,
   "metadata": {},
   "outputs": [
    {
     "name": "stdout",
     "output_type": "stream",
     "text": [
      "scorbe:8.86 percent\n"
     ]
    }
   ],
   "source": [
    "## Methood 1..\n",
    "clf = LinearRegression()\n",
    "clf.fit(train_X, train_y)\n",
    "y_pred_linear=clf.predict(test_X)\n",
    "acc_linear=round( clf.score(train_X, train_y) * 100, 2)\n",
    "print ('scorbe:'+str(acc_linear) + ' percent')"
   ]
  },
  {
   "cell_type": "code",
   "execution_count": 53,
   "metadata": {},
   "outputs": [
    {
     "ename": "KeyboardInterrupt",
     "evalue": "",
     "output_type": "error",
     "traceback": [
      "\u001b[1;31m---------------------------------------------------------------------------\u001b[0m",
      "\u001b[1;31mKeyboardInterrupt\u001b[0m                         Traceback (most recent call last)",
      "\u001b[1;32m<ipython-input-53-49274c50499c>\u001b[0m in \u001b[0;36m<module>\u001b[1;34m\u001b[0m\n\u001b[0;32m      2\u001b[0m \u001b[0mclf\u001b[0m\u001b[1;33m.\u001b[0m\u001b[0mfit\u001b[0m\u001b[1;33m(\u001b[0m\u001b[0mtrain_X\u001b[0m\u001b[1;33m,\u001b[0m \u001b[0mtrain_y\u001b[0m\u001b[1;33m)\u001b[0m\u001b[1;33m\u001b[0m\u001b[1;33m\u001b[0m\u001b[0m\n\u001b[0;32m      3\u001b[0m \u001b[0my_pred_rf\u001b[0m\u001b[1;33m=\u001b[0m\u001b[0mclf\u001b[0m\u001b[1;33m.\u001b[0m\u001b[0mpredict\u001b[0m\u001b[1;33m(\u001b[0m\u001b[0mtest_X\u001b[0m\u001b[1;33m)\u001b[0m\u001b[1;33m\u001b[0m\u001b[1;33m\u001b[0m\u001b[0m\n\u001b[1;32m----> 4\u001b[1;33m \u001b[0macc_rf\u001b[0m\u001b[1;33m=\u001b[0m \u001b[0mround\u001b[0m\u001b[1;33m(\u001b[0m\u001b[0mclf\u001b[0m\u001b[1;33m.\u001b[0m\u001b[0mscore\u001b[0m\u001b[1;33m(\u001b[0m\u001b[0mtrain_X\u001b[0m\u001b[1;33m,\u001b[0m \u001b[0mtrain_y\u001b[0m\u001b[1;33m)\u001b[0m \u001b[1;33m*\u001b[0m \u001b[1;36m100\u001b[0m\u001b[1;33m,\u001b[0m \u001b[1;36m2\u001b[0m\u001b[1;33m)\u001b[0m\u001b[1;33m\u001b[0m\u001b[1;33m\u001b[0m\u001b[0m\n\u001b[0m\u001b[0;32m      5\u001b[0m \u001b[0mprint\u001b[0m \u001b[1;33m(\u001b[0m\u001b[1;34m\"Accuracy: %i %% \\n\"\u001b[0m\u001b[1;33m%\u001b[0m\u001b[0macc_rf\u001b[0m\u001b[1;33m)\u001b[0m\u001b[1;33m\u001b[0m\u001b[1;33m\u001b[0m\u001b[0m\n",
      "\u001b[1;32m~\\Anaconda3\\lib\\site-packages\\sklearn\\base.py\u001b[0m in \u001b[0;36mscore\u001b[1;34m(self, X, y, sample_weight)\u001b[0m\n\u001b[0;32m    406\u001b[0m         \u001b[1;32mfrom\u001b[0m \u001b[1;33m.\u001b[0m\u001b[0mmetrics\u001b[0m \u001b[1;32mimport\u001b[0m \u001b[0mr2_score\u001b[0m\u001b[1;33m\u001b[0m\u001b[1;33m\u001b[0m\u001b[0m\n\u001b[0;32m    407\u001b[0m         \u001b[1;32mfrom\u001b[0m \u001b[1;33m.\u001b[0m\u001b[0mmetrics\u001b[0m\u001b[1;33m.\u001b[0m\u001b[0mregression\u001b[0m \u001b[1;32mimport\u001b[0m \u001b[0m_check_reg_targets\u001b[0m\u001b[1;33m\u001b[0m\u001b[1;33m\u001b[0m\u001b[0m\n\u001b[1;32m--> 408\u001b[1;33m         \u001b[0my_pred\u001b[0m \u001b[1;33m=\u001b[0m \u001b[0mself\u001b[0m\u001b[1;33m.\u001b[0m\u001b[0mpredict\u001b[0m\u001b[1;33m(\u001b[0m\u001b[0mX\u001b[0m\u001b[1;33m)\u001b[0m\u001b[1;33m\u001b[0m\u001b[1;33m\u001b[0m\u001b[0m\n\u001b[0m\u001b[0;32m    409\u001b[0m         \u001b[1;31m# XXX: Remove the check in 0.23\u001b[0m\u001b[1;33m\u001b[0m\u001b[1;33m\u001b[0m\u001b[1;33m\u001b[0m\u001b[0m\n\u001b[0;32m    410\u001b[0m         \u001b[0my_type\u001b[0m\u001b[1;33m,\u001b[0m \u001b[0m_\u001b[0m\u001b[1;33m,\u001b[0m \u001b[0m_\u001b[0m\u001b[1;33m,\u001b[0m \u001b[0m_\u001b[0m \u001b[1;33m=\u001b[0m \u001b[0m_check_reg_targets\u001b[0m\u001b[1;33m(\u001b[0m\u001b[0my\u001b[0m\u001b[1;33m,\u001b[0m \u001b[0my_pred\u001b[0m\u001b[1;33m,\u001b[0m \u001b[1;32mNone\u001b[0m\u001b[1;33m)\u001b[0m\u001b[1;33m\u001b[0m\u001b[1;33m\u001b[0m\u001b[0m\n",
      "\u001b[1;32m~\\Anaconda3\\lib\\site-packages\\sklearn\\ensemble\\forest.py\u001b[0m in \u001b[0;36mpredict\u001b[1;34m(self, X)\u001b[0m\n\u001b[0;32m    707\u001b[0m                  \u001b[1;33m**\u001b[0m\u001b[0m_joblib_parallel_args\u001b[0m\u001b[1;33m(\u001b[0m\u001b[0mrequire\u001b[0m\u001b[1;33m=\u001b[0m\u001b[1;34m\"sharedmem\"\u001b[0m\u001b[1;33m)\u001b[0m\u001b[1;33m)\u001b[0m\u001b[1;33m(\u001b[0m\u001b[1;33m\u001b[0m\u001b[1;33m\u001b[0m\u001b[0m\n\u001b[0;32m    708\u001b[0m             \u001b[0mdelayed\u001b[0m\u001b[1;33m(\u001b[0m\u001b[0m_accumulate_prediction\u001b[0m\u001b[1;33m)\u001b[0m\u001b[1;33m(\u001b[0m\u001b[0me\u001b[0m\u001b[1;33m.\u001b[0m\u001b[0mpredict\u001b[0m\u001b[1;33m,\u001b[0m \u001b[0mX\u001b[0m\u001b[1;33m,\u001b[0m \u001b[1;33m[\u001b[0m\u001b[0my_hat\u001b[0m\u001b[1;33m]\u001b[0m\u001b[1;33m,\u001b[0m \u001b[0mlock\u001b[0m\u001b[1;33m)\u001b[0m\u001b[1;33m\u001b[0m\u001b[1;33m\u001b[0m\u001b[0m\n\u001b[1;32m--> 709\u001b[1;33m             for e in self.estimators_)\n\u001b[0m\u001b[0;32m    710\u001b[0m \u001b[1;33m\u001b[0m\u001b[0m\n\u001b[0;32m    711\u001b[0m         \u001b[0my_hat\u001b[0m \u001b[1;33m/=\u001b[0m \u001b[0mlen\u001b[0m\u001b[1;33m(\u001b[0m\u001b[0mself\u001b[0m\u001b[1;33m.\u001b[0m\u001b[0mestimators_\u001b[0m\u001b[1;33m)\u001b[0m\u001b[1;33m\u001b[0m\u001b[1;33m\u001b[0m\u001b[0m\n",
      "\u001b[1;32m~\\Anaconda3\\lib\\site-packages\\joblib\\parallel.py\u001b[0m in \u001b[0;36m__call__\u001b[1;34m(self, iterable)\u001b[0m\n\u001b[0;32m    922\u001b[0m                 \u001b[0mself\u001b[0m\u001b[1;33m.\u001b[0m\u001b[0m_iterating\u001b[0m \u001b[1;33m=\u001b[0m \u001b[0mself\u001b[0m\u001b[1;33m.\u001b[0m\u001b[0m_original_iterator\u001b[0m \u001b[1;32mis\u001b[0m \u001b[1;32mnot\u001b[0m \u001b[1;32mNone\u001b[0m\u001b[1;33m\u001b[0m\u001b[1;33m\u001b[0m\u001b[0m\n\u001b[0;32m    923\u001b[0m \u001b[1;33m\u001b[0m\u001b[0m\n\u001b[1;32m--> 924\u001b[1;33m             \u001b[1;32mwhile\u001b[0m \u001b[0mself\u001b[0m\u001b[1;33m.\u001b[0m\u001b[0mdispatch_one_batch\u001b[0m\u001b[1;33m(\u001b[0m\u001b[0miterator\u001b[0m\u001b[1;33m)\u001b[0m\u001b[1;33m:\u001b[0m\u001b[1;33m\u001b[0m\u001b[1;33m\u001b[0m\u001b[0m\n\u001b[0m\u001b[0;32m    925\u001b[0m                 \u001b[1;32mpass\u001b[0m\u001b[1;33m\u001b[0m\u001b[1;33m\u001b[0m\u001b[0m\n\u001b[0;32m    926\u001b[0m \u001b[1;33m\u001b[0m\u001b[0m\n",
      "\u001b[1;32m~\\Anaconda3\\lib\\site-packages\\joblib\\parallel.py\u001b[0m in \u001b[0;36mdispatch_one_batch\u001b[1;34m(self, iterator)\u001b[0m\n\u001b[0;32m    757\u001b[0m                 \u001b[1;32mreturn\u001b[0m \u001b[1;32mFalse\u001b[0m\u001b[1;33m\u001b[0m\u001b[1;33m\u001b[0m\u001b[0m\n\u001b[0;32m    758\u001b[0m             \u001b[1;32melse\u001b[0m\u001b[1;33m:\u001b[0m\u001b[1;33m\u001b[0m\u001b[1;33m\u001b[0m\u001b[0m\n\u001b[1;32m--> 759\u001b[1;33m                 \u001b[0mself\u001b[0m\u001b[1;33m.\u001b[0m\u001b[0m_dispatch\u001b[0m\u001b[1;33m(\u001b[0m\u001b[0mtasks\u001b[0m\u001b[1;33m)\u001b[0m\u001b[1;33m\u001b[0m\u001b[1;33m\u001b[0m\u001b[0m\n\u001b[0m\u001b[0;32m    760\u001b[0m                 \u001b[1;32mreturn\u001b[0m \u001b[1;32mTrue\u001b[0m\u001b[1;33m\u001b[0m\u001b[1;33m\u001b[0m\u001b[0m\n\u001b[0;32m    761\u001b[0m \u001b[1;33m\u001b[0m\u001b[0m\n",
      "\u001b[1;32m~\\Anaconda3\\lib\\site-packages\\joblib\\parallel.py\u001b[0m in \u001b[0;36m_dispatch\u001b[1;34m(self, batch)\u001b[0m\n\u001b[0;32m    714\u001b[0m         \u001b[1;32mwith\u001b[0m \u001b[0mself\u001b[0m\u001b[1;33m.\u001b[0m\u001b[0m_lock\u001b[0m\u001b[1;33m:\u001b[0m\u001b[1;33m\u001b[0m\u001b[1;33m\u001b[0m\u001b[0m\n\u001b[0;32m    715\u001b[0m             \u001b[0mjob_idx\u001b[0m \u001b[1;33m=\u001b[0m \u001b[0mlen\u001b[0m\u001b[1;33m(\u001b[0m\u001b[0mself\u001b[0m\u001b[1;33m.\u001b[0m\u001b[0m_jobs\u001b[0m\u001b[1;33m)\u001b[0m\u001b[1;33m\u001b[0m\u001b[1;33m\u001b[0m\u001b[0m\n\u001b[1;32m--> 716\u001b[1;33m             \u001b[0mjob\u001b[0m \u001b[1;33m=\u001b[0m \u001b[0mself\u001b[0m\u001b[1;33m.\u001b[0m\u001b[0m_backend\u001b[0m\u001b[1;33m.\u001b[0m\u001b[0mapply_async\u001b[0m\u001b[1;33m(\u001b[0m\u001b[0mbatch\u001b[0m\u001b[1;33m,\u001b[0m \u001b[0mcallback\u001b[0m\u001b[1;33m=\u001b[0m\u001b[0mcb\u001b[0m\u001b[1;33m)\u001b[0m\u001b[1;33m\u001b[0m\u001b[1;33m\u001b[0m\u001b[0m\n\u001b[0m\u001b[0;32m    717\u001b[0m             \u001b[1;31m# A job can complete so quickly than its callback is\u001b[0m\u001b[1;33m\u001b[0m\u001b[1;33m\u001b[0m\u001b[1;33m\u001b[0m\u001b[0m\n\u001b[0;32m    718\u001b[0m             \u001b[1;31m# called before we get here, causing self._jobs to\u001b[0m\u001b[1;33m\u001b[0m\u001b[1;33m\u001b[0m\u001b[1;33m\u001b[0m\u001b[0m\n",
      "\u001b[1;32m~\\Anaconda3\\lib\\site-packages\\joblib\\_parallel_backends.py\u001b[0m in \u001b[0;36mapply_async\u001b[1;34m(self, func, callback)\u001b[0m\n\u001b[0;32m    180\u001b[0m     \u001b[1;32mdef\u001b[0m \u001b[0mapply_async\u001b[0m\u001b[1;33m(\u001b[0m\u001b[0mself\u001b[0m\u001b[1;33m,\u001b[0m \u001b[0mfunc\u001b[0m\u001b[1;33m,\u001b[0m \u001b[0mcallback\u001b[0m\u001b[1;33m=\u001b[0m\u001b[1;32mNone\u001b[0m\u001b[1;33m)\u001b[0m\u001b[1;33m:\u001b[0m\u001b[1;33m\u001b[0m\u001b[1;33m\u001b[0m\u001b[0m\n\u001b[0;32m    181\u001b[0m         \u001b[1;34m\"\"\"Schedule a func to be run\"\"\"\u001b[0m\u001b[1;33m\u001b[0m\u001b[1;33m\u001b[0m\u001b[0m\n\u001b[1;32m--> 182\u001b[1;33m         \u001b[0mresult\u001b[0m \u001b[1;33m=\u001b[0m \u001b[0mImmediateResult\u001b[0m\u001b[1;33m(\u001b[0m\u001b[0mfunc\u001b[0m\u001b[1;33m)\u001b[0m\u001b[1;33m\u001b[0m\u001b[1;33m\u001b[0m\u001b[0m\n\u001b[0m\u001b[0;32m    183\u001b[0m         \u001b[1;32mif\u001b[0m \u001b[0mcallback\u001b[0m\u001b[1;33m:\u001b[0m\u001b[1;33m\u001b[0m\u001b[1;33m\u001b[0m\u001b[0m\n\u001b[0;32m    184\u001b[0m             \u001b[0mcallback\u001b[0m\u001b[1;33m(\u001b[0m\u001b[0mresult\u001b[0m\u001b[1;33m)\u001b[0m\u001b[1;33m\u001b[0m\u001b[1;33m\u001b[0m\u001b[0m\n",
      "\u001b[1;32m~\\Anaconda3\\lib\\site-packages\\joblib\\_parallel_backends.py\u001b[0m in \u001b[0;36m__init__\u001b[1;34m(self, batch)\u001b[0m\n\u001b[0;32m    547\u001b[0m         \u001b[1;31m# Don't delay the application, to avoid keeping the input\u001b[0m\u001b[1;33m\u001b[0m\u001b[1;33m\u001b[0m\u001b[1;33m\u001b[0m\u001b[0m\n\u001b[0;32m    548\u001b[0m         \u001b[1;31m# arguments in memory\u001b[0m\u001b[1;33m\u001b[0m\u001b[1;33m\u001b[0m\u001b[1;33m\u001b[0m\u001b[0m\n\u001b[1;32m--> 549\u001b[1;33m         \u001b[0mself\u001b[0m\u001b[1;33m.\u001b[0m\u001b[0mresults\u001b[0m \u001b[1;33m=\u001b[0m \u001b[0mbatch\u001b[0m\u001b[1;33m(\u001b[0m\u001b[1;33m)\u001b[0m\u001b[1;33m\u001b[0m\u001b[1;33m\u001b[0m\u001b[0m\n\u001b[0m\u001b[0;32m    550\u001b[0m \u001b[1;33m\u001b[0m\u001b[0m\n\u001b[0;32m    551\u001b[0m     \u001b[1;32mdef\u001b[0m \u001b[0mget\u001b[0m\u001b[1;33m(\u001b[0m\u001b[0mself\u001b[0m\u001b[1;33m)\u001b[0m\u001b[1;33m:\u001b[0m\u001b[1;33m\u001b[0m\u001b[1;33m\u001b[0m\u001b[0m\n",
      "\u001b[1;32m~\\Anaconda3\\lib\\site-packages\\joblib\\parallel.py\u001b[0m in \u001b[0;36m__call__\u001b[1;34m(self)\u001b[0m\n\u001b[0;32m    223\u001b[0m         \u001b[1;32mwith\u001b[0m \u001b[0mparallel_backend\u001b[0m\u001b[1;33m(\u001b[0m\u001b[0mself\u001b[0m\u001b[1;33m.\u001b[0m\u001b[0m_backend\u001b[0m\u001b[1;33m,\u001b[0m \u001b[0mn_jobs\u001b[0m\u001b[1;33m=\u001b[0m\u001b[0mself\u001b[0m\u001b[1;33m.\u001b[0m\u001b[0m_n_jobs\u001b[0m\u001b[1;33m)\u001b[0m\u001b[1;33m:\u001b[0m\u001b[1;33m\u001b[0m\u001b[1;33m\u001b[0m\u001b[0m\n\u001b[0;32m    224\u001b[0m             return [func(*args, **kwargs)\n\u001b[1;32m--> 225\u001b[1;33m                     for func, args, kwargs in self.items]\n\u001b[0m\u001b[0;32m    226\u001b[0m \u001b[1;33m\u001b[0m\u001b[0m\n\u001b[0;32m    227\u001b[0m     \u001b[1;32mdef\u001b[0m \u001b[0m__len__\u001b[0m\u001b[1;33m(\u001b[0m\u001b[0mself\u001b[0m\u001b[1;33m)\u001b[0m\u001b[1;33m:\u001b[0m\u001b[1;33m\u001b[0m\u001b[1;33m\u001b[0m\u001b[0m\n",
      "\u001b[1;32m~\\Anaconda3\\lib\\site-packages\\joblib\\parallel.py\u001b[0m in \u001b[0;36m<listcomp>\u001b[1;34m(.0)\u001b[0m\n\u001b[0;32m    223\u001b[0m         \u001b[1;32mwith\u001b[0m \u001b[0mparallel_backend\u001b[0m\u001b[1;33m(\u001b[0m\u001b[0mself\u001b[0m\u001b[1;33m.\u001b[0m\u001b[0m_backend\u001b[0m\u001b[1;33m,\u001b[0m \u001b[0mn_jobs\u001b[0m\u001b[1;33m=\u001b[0m\u001b[0mself\u001b[0m\u001b[1;33m.\u001b[0m\u001b[0m_n_jobs\u001b[0m\u001b[1;33m)\u001b[0m\u001b[1;33m:\u001b[0m\u001b[1;33m\u001b[0m\u001b[1;33m\u001b[0m\u001b[0m\n\u001b[0;32m    224\u001b[0m             return [func(*args, **kwargs)\n\u001b[1;32m--> 225\u001b[1;33m                     for func, args, kwargs in self.items]\n\u001b[0m\u001b[0;32m    226\u001b[0m \u001b[1;33m\u001b[0m\u001b[0m\n\u001b[0;32m    227\u001b[0m     \u001b[1;32mdef\u001b[0m \u001b[0m__len__\u001b[0m\u001b[1;33m(\u001b[0m\u001b[0mself\u001b[0m\u001b[1;33m)\u001b[0m\u001b[1;33m:\u001b[0m\u001b[1;33m\u001b[0m\u001b[1;33m\u001b[0m\u001b[0m\n",
      "\u001b[1;32m~\\Anaconda3\\lib\\site-packages\\sklearn\\ensemble\\forest.py\u001b[0m in \u001b[0;36m_accumulate_prediction\u001b[1;34m(predict, X, out, lock)\u001b[0m\n\u001b[0;32m    392\u001b[0m     \u001b[0mcomplains\u001b[0m \u001b[0mthat\u001b[0m \u001b[0mit\u001b[0m \u001b[0mcannot\u001b[0m \u001b[0mpickle\u001b[0m \u001b[0mit\u001b[0m \u001b[0mwhen\u001b[0m \u001b[0mplaced\u001b[0m \u001b[0mthere\u001b[0m\u001b[1;33m.\u001b[0m\u001b[1;33m\u001b[0m\u001b[1;33m\u001b[0m\u001b[0m\n\u001b[0;32m    393\u001b[0m     \"\"\"\n\u001b[1;32m--> 394\u001b[1;33m     \u001b[0mprediction\u001b[0m \u001b[1;33m=\u001b[0m \u001b[0mpredict\u001b[0m\u001b[1;33m(\u001b[0m\u001b[0mX\u001b[0m\u001b[1;33m,\u001b[0m \u001b[0mcheck_input\u001b[0m\u001b[1;33m=\u001b[0m\u001b[1;32mFalse\u001b[0m\u001b[1;33m)\u001b[0m\u001b[1;33m\u001b[0m\u001b[1;33m\u001b[0m\u001b[0m\n\u001b[0m\u001b[0;32m    395\u001b[0m     \u001b[1;32mwith\u001b[0m \u001b[0mlock\u001b[0m\u001b[1;33m:\u001b[0m\u001b[1;33m\u001b[0m\u001b[1;33m\u001b[0m\u001b[0m\n\u001b[0;32m    396\u001b[0m         \u001b[1;32mif\u001b[0m \u001b[0mlen\u001b[0m\u001b[1;33m(\u001b[0m\u001b[0mout\u001b[0m\u001b[1;33m)\u001b[0m \u001b[1;33m==\u001b[0m \u001b[1;36m1\u001b[0m\u001b[1;33m:\u001b[0m\u001b[1;33m\u001b[0m\u001b[1;33m\u001b[0m\u001b[0m\n",
      "\u001b[1;32m~\\Anaconda3\\lib\\site-packages\\sklearn\\tree\\tree.py\u001b[0m in \u001b[0;36mpredict\u001b[1;34m(self, X, check_input)\u001b[0m\n\u001b[0;32m    429\u001b[0m         \u001b[0mcheck_is_fitted\u001b[0m\u001b[1;33m(\u001b[0m\u001b[0mself\u001b[0m\u001b[1;33m,\u001b[0m \u001b[1;34m'tree_'\u001b[0m\u001b[1;33m)\u001b[0m\u001b[1;33m\u001b[0m\u001b[1;33m\u001b[0m\u001b[0m\n\u001b[0;32m    430\u001b[0m         \u001b[0mX\u001b[0m \u001b[1;33m=\u001b[0m \u001b[0mself\u001b[0m\u001b[1;33m.\u001b[0m\u001b[0m_validate_X_predict\u001b[0m\u001b[1;33m(\u001b[0m\u001b[0mX\u001b[0m\u001b[1;33m,\u001b[0m \u001b[0mcheck_input\u001b[0m\u001b[1;33m)\u001b[0m\u001b[1;33m\u001b[0m\u001b[1;33m\u001b[0m\u001b[0m\n\u001b[1;32m--> 431\u001b[1;33m         \u001b[0mproba\u001b[0m \u001b[1;33m=\u001b[0m \u001b[0mself\u001b[0m\u001b[1;33m.\u001b[0m\u001b[0mtree_\u001b[0m\u001b[1;33m.\u001b[0m\u001b[0mpredict\u001b[0m\u001b[1;33m(\u001b[0m\u001b[0mX\u001b[0m\u001b[1;33m)\u001b[0m\u001b[1;33m\u001b[0m\u001b[1;33m\u001b[0m\u001b[0m\n\u001b[0m\u001b[0;32m    432\u001b[0m         \u001b[0mn_samples\u001b[0m \u001b[1;33m=\u001b[0m \u001b[0mX\u001b[0m\u001b[1;33m.\u001b[0m\u001b[0mshape\u001b[0m\u001b[1;33m[\u001b[0m\u001b[1;36m0\u001b[0m\u001b[1;33m]\u001b[0m\u001b[1;33m\u001b[0m\u001b[1;33m\u001b[0m\u001b[0m\n\u001b[0;32m    433\u001b[0m \u001b[1;33m\u001b[0m\u001b[0m\n",
      "\u001b[1;31mKeyboardInterrupt\u001b[0m: "
     ]
    }
   ],
   "source": [
    "clf = RandomForestRegressor(n_estimators=100)\n",
    "clf.fit(train_X, train_y)\n",
    "y_pred_rf=clf.predict(test_X)\n",
    "acc_rf= round(clf.score(train_X, train_y) * 100, 2)\n",
    "print (\"Accuracy: %i %% \\n\"%acc_rf)"
   ]
  },
  {
   "cell_type": "code",
   "execution_count": null,
   "metadata": {},
   "outputs": [],
   "source": [
    "clf=DecisionTreeRegressor()\n",
    "clf.fit(train_X, train_y)\n",
    "y_pred_dt= clf.predict(test_X)\n",
    "acc_dt = round( clf.score(train_X, train_y) * 100, 2)\n",
    "print (str(acc_dt) + ' percent')"
   ]
  },
  {
   "cell_type": "code",
   "execution_count": null,
   "metadata": {},
   "outputs": [],
   "source": [
    "models = pd.DataFrame({\n",
    "    'Model': ['Linear Regression','Random Forest','Decision Tree'],\n",
    "    \n",
    "    'Score': [acc_linear, acc_rf,acc_dt]\n",
    "    })\n",
    "\n",
    "models.sort_values(by='Score', ascending=False)"
   ]
  },
  {
   "cell_type": "code",
   "execution_count": null,
   "metadata": {},
   "outputs": [],
   "source": [
    "# Prediction value using Random Forest model..\n",
    "submission = pd.DataFrame({\n",
    "        \"Store_Dept_Date\": test.Store.astype(str)+'_'+test.Dept.astype(str)+'_'+test.Date.astype(str),\n",
    "        \"Weekly_Sales\": y_pred_rf\n",
    "    })\n",
    "\n",
    "submission.to_csv('weekly_sales predicted.csv', index=False)\n",
    "submission.to_excel(writer,'Weekly_sales Pred',index=False)"
   ]
  },
  {
   "cell_type": "code",
   "execution_count": null,
   "metadata": {},
   "outputs": [],
   "source": [
    "submission.head()"
   ]
  },
  {
   "cell_type": "code",
   "execution_count": null,
   "metadata": {},
   "outputs": [],
   "source": []
  }
 ],
 "metadata": {
  "kernelspec": {
   "display_name": "Python 3",
   "language": "python",
   "name": "python3"
  },
  "language_info": {
   "codemirror_mode": {
    "name": "ipython",
    "version": 3
   },
   "file_extension": ".py",
   "mimetype": "text/x-python",
   "name": "python",
   "nbconvert_exporter": "python",
   "pygments_lexer": "ipython3",
   "version": "3.7.4"
  }
 },
 "nbformat": 4,
 "nbformat_minor": 2
}
